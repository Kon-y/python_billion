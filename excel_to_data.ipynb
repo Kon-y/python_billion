{
 "cells": [
  {
   "cell_type": "markdown",
   "metadata": {},
   "source": [
    "[loto7 winning number page](https://www.mizuhobank.co.jp/retail/takarakuji/check/loto/loto7/index.html)\n",
    "\n",
    "total_number = 全通りの数"
   ]
  },
  {
   "cell_type": "code",
   "execution_count": 15,
   "metadata": {
    "metadata": {}
   },
   "outputs": [],
   "source": [
    "# ライブラリのインポート\n",
    "import openpyxl\n",
    "import pandas as pd\n",
    "import matplotlib.pyplot as plt # データを効率的に操作するためのライブラリ\n",
    "import numpy as np              # グラフを簡単に書くライブラリ\n",
    "import os\n",
    "import difflib"
   ]
  },
  {
   "cell_type": "code",
   "execution_count": 47,
   "metadata": {
    "metadata": {}
   },
   "outputs": [],
   "source": [
    "# ファイル配置場所を変数に入れて読み取り専用で開く\n",
    "file_path = \"./Billion.xlsx\"\n",
    "wb = openpyxl.load_workbook(file_path, data_only=True)"
   ]
  },
  {
   "cell_type": "code",
   "execution_count": 17,
   "metadata": {
    "metadata": {}
   },
   "outputs": [],
   "source": [
    "# ロト7の総当選数(37C7 = 10295472.0)\n",
    "total_number = (37 * 36 * 35 * 34 * 33 * 32 * 31) / (7 * 6 * 5 * 4 * 3 * 2 * 1)\n",
    "#[debug] print(total_number)"
   ]
  },
  {
   "cell_type": "code",
   "execution_count": 18,
   "metadata": {
    "metadata": {}
   },
   "outputs": [],
   "source": [
    "# 抽選回数の最終値を抽出する\n",
    "ws = wb[\"当選番号\"]\n",
    "last_row = ws.max_row\n",
    "#[debug] print(last_row)"
   ]
  },
  {
   "cell_type": "code",
   "execution_count": 19,
   "metadata": {
    "metadata": {}
   },
   "outputs": [],
   "source": [
    "# 重複チェック\n",
    "def check_duplicates(new_data, existing_data):\n",
    "    for key, values in existing_data.items():\n",
    "        if new_data == values:\n",
    "            return True  # 重複が見つかった場合\n",
    "    return False\n",
    "\n",
    "# 抽選回数分の空データフレームを作成する\n",
    "# ref: 6.1 whileによる反復処理\n",
    "count = 1\n",
    "win_numbers = {}  # 辞書を初期化\n",
    "\n",
    "while count <= last_row:\n",
    "    win_num_name = \"win_num\" + str(count)\n",
    "    #[debug] print(win_num_name)\n",
    "\n",
    "    # cell番号を指定して値を要素に追加する\n",
    "    b_value = ws[\"B\" + str(count)].value\n",
    "    c_value = ws[\"C\" + str(count)].value\n",
    "    d_value = ws[\"D\" + str(count)].value\n",
    "    e_value = ws[\"E\" + str(count)].value\n",
    "    f_value = ws[\"F\" + str(count)].value\n",
    "    g_value = ws[\"G\" + str(count)].value\n",
    "    h_value = ws[\"H\" + str(count)].value\n",
    "    \n",
    "     # Noneの場合に備えて条件を追加\n",
    "    if None not in (b_value, c_value, d_value, e_value, f_value, g_value, h_value):\n",
    "        win_numbers[win_num_name] = {\n",
    "        'no1': int(b_value),\n",
    "        'no2': int(c_value),\n",
    "        'no3': int(d_value),\n",
    "        'no4': int(e_value),\n",
    "        'no5': int(f_value),\n",
    "        'no6': int(g_value),\n",
    "        'no7': int(h_value)\n",
    "        }\n",
    "    count += 1\n",
    "\n",
    "# 特定のwin_numのデータを出力\n",
    "#[debug] print(win_numbers['win_num2'])"
   ]
  },
  {
   "cell_type": "code",
   "execution_count": 20,
   "metadata": {
    "metadata": {}
   },
   "outputs": [
    {
     "name": "stdout",
     "output_type": "stream",
     "text": [
      "重複したデータはありません。\n"
     ]
    }
   ],
   "source": [
    "# 重複をチェックするためのセット\n",
    "seen_numbers = set()\n",
    "\n",
    "# 重複があるかどうかのフラグ\n",
    "has_duplicates = False\n",
    "\n",
    "# 重複チェック処理\n",
    "for key, value in win_numbers.items():\n",
    "    numbers_tuple = tuple(value.values()) # key=win_num1 value={'no1': 7, 'no2': 10, 'no3': 12, 'no4': 17, 'no5': 23, 'no6': 28, 'no7': 34}\n",
    "    #[debug] print(numbers_tuple) # 出力 -> (7, 10, 12, 17, 23, 28, 34)    \n",
    "\n",
    "    if numbers_tuple in seen_numbers:\n",
    "        # 重複がある場合\n",
    "        has_duplicates = True\n",
    "        print(f\"重複したデータが見つかりました: {key} - {value}\")\n",
    "    else:\n",
    "        # 重複がない場合、セットに追加\n",
    "        seen_numbers.add(numbers_tuple)\n",
    "\n",
    "if not has_duplicates:\n",
    "   print(\"重複したデータはありません。\") # 重複したときだけメッセージ出したいためコメントアウト\n",
    "\n",
    "# wn_list.txtの初期化\n",
    "with open(\"wn_list.txt\", mode=\"r+\") as f:  # rwでファイルを開くこと\n",
    "    f.truncate(0)\n",
    "\n",
    "# wn_list.txt(当選番号のみのリスト)を作成\n",
    "with open('wn_list.txt', 'w') as f:\n",
    "    for wn_list in seen_numbers:\n",
    "        f.write(', '.join(map(str, wn_list)) + '\\n') # リストの各要素を文字列に変換し、カンマで区切って一つの文字列に結合している。\n",
    "\n",
    "#[debug] print(seen_numbers)"
   ]
  },
  {
   "cell_type": "code",
   "execution_count": 21,
   "metadata": {
    "metadata": {}
   },
   "outputs": [
    {
     "name": "stdout",
     "output_type": "stream",
     "text": [
      "10294874.0\n"
     ]
    }
   ],
   "source": [
    "# 重複してなかったらtotal_numberから回数分引く。\n",
    "total_number_latest = total_number - last_row\n",
    "#[debug] \n",
    "print(total_number_latest)"
   ]
  },
  {
   "cell_type": "code",
   "execution_count": 22,
   "metadata": {
    "metadata": {}
   },
   "outputs": [],
   "source": [
    "# 全no1の合計値\n",
    "count = 1\n",
    "sum_no1 = 0\n",
    "\n",
    "while count <= last_row:\n",
    "    no1_val = (win_numbers['win_num' + str(count)]['no1'])\n",
    "    sum_no1 = sum_no1 + no1_val\n",
    "    count += 1\n",
    "\n",
    "# output(result)\n",
    "#[debug] print(sum_no1)\n",
    "\n",
    "# no1の平均値の出力\n",
    "avg_no1 = None\n",
    "globals()['avg_no1'] = sum_no1 / last_row\n",
    "#[debug] \n",
    "#[debug] print(avg_no1)"
   ]
  },
  {
   "cell_type": "code",
   "execution_count": 23,
   "metadata": {
    "metadata": {}
   },
   "outputs": [],
   "source": [
    "# no2の平均値\n",
    "count = 1\n",
    "sum_no2 = 0\n",
    "\n",
    "while count <= last_row:\n",
    "    no2_val = (win_numbers['win_num' + str(count)]['no2'])\n",
    "    sum_no2 = sum_no2 + no2_val\n",
    "    count += 1\n",
    "\n",
    "# output(result)\n",
    "#[debug] print(sum_no2)\n",
    "\n",
    "# no2の平均値の出力\n",
    "avg_no2 = None\n",
    "globals()['avg_no2'] = sum_no2 / last_row\n",
    "#[debug] print(avg_no2)"
   ]
  },
  {
   "cell_type": "code",
   "execution_count": 24,
   "metadata": {
    "metadata": {}
   },
   "outputs": [],
   "source": [
    "# no3の平均値\n",
    "count = 1\n",
    "sum_no3 = 0\n",
    "\n",
    "while count <= last_row:\n",
    "    no3_val = (win_numbers['win_num' + str(count)]['no3'])\n",
    "    sum_no3 = sum_no3 + no3_val\n",
    "    count += 1\n",
    "\n",
    "# output(result)\n",
    "#[debug] print(sum_no3)\n",
    "\n",
    "# no3の平均値の出力\n",
    "avg_no3 = None\n",
    "globals()['avg_no3'] = sum_no3 / last_row\n",
    "#[debug] print(avg_no3)"
   ]
  },
  {
   "cell_type": "code",
   "execution_count": 25,
   "metadata": {
    "metadata": {},
    "tags": []
   },
   "outputs": [],
   "source": [
    "# no4の平均値\n",
    "count = 1\n",
    "sum_no4 = 0\n",
    "\n",
    "while count <= last_row:\n",
    "    no4_val = (win_numbers['win_num' + str(count)]['no4'])\n",
    "    sum_no4 = sum_no4 + no4_val\n",
    "    count += 1\n",
    "\n",
    "# output(result)\n",
    "#[debug] print(sum_no4)\n",
    "\n",
    "# no4の平均値の出力\n",
    "avg_no4 = None\n",
    "globals()['avg_no4'] = sum_no4 / last_row\n",
    "#[debug] print(avg_no4)"
   ]
  },
  {
   "cell_type": "code",
   "execution_count": 26,
   "metadata": {
    "metadata": {}
   },
   "outputs": [],
   "source": [
    "# no5の平均値\n",
    "count = 1\n",
    "sum_no5 = 0\n",
    "\n",
    "while count <= last_row:\n",
    "    no5_val = (win_numbers['win_num' + str(count)]['no5'])\n",
    "    sum_no5 = sum_no5 + no5_val\n",
    "    count += 1\n",
    "\n",
    "# output(result)\n",
    "#[debug] print(sum_no5)\n",
    "\n",
    "# no5の平均値の出力\n",
    "avg_no5 = None\n",
    "globals()['avg_no5'] = sum_no5 / last_row\n",
    "#[debug] print(avg_no5)"
   ]
  },
  {
   "cell_type": "code",
   "execution_count": 27,
   "metadata": {
    "metadata": {}
   },
   "outputs": [],
   "source": [
    "# no6の平均値\n",
    "count = 1\n",
    "sum_no6 = 0\n",
    "\n",
    "while count <= last_row:\n",
    "    no6_val = (win_numbers['win_num' + str(count)]['no6'])\n",
    "    sum_no6 = sum_no6 + no6_val\n",
    "    count += 1\n",
    "\n",
    "# output(result)\n",
    "#[debug] print(sum_no6)\n",
    "\n",
    "# no6の平均値の出力\n",
    "avg_no6 = None\n",
    "globals()['avg_no6'] = sum_no6 / last_row\n",
    "#[debug] print(avg_no6)"
   ]
  },
  {
   "cell_type": "code",
   "execution_count": 28,
   "metadata": {
    "metadata": {}
   },
   "outputs": [],
   "source": [
    "# no7の平均値\n",
    "count = 1\n",
    "sum_no7 = 0\n",
    "\n",
    "while count <= last_row:\n",
    "    no7_val = (win_numbers['win_num' + str(count)]['no7'])\n",
    "    sum_no7 = sum_no7 + no7_val\n",
    "    count += 1\n",
    "\n",
    "# output(result)\n",
    "#[debug] print(sum_no7)\n",
    "\n",
    "# no7の平均値の出力\n",
    "avg_no7 = None\n",
    "globals()['avg_no7'] = sum_no7 / last_row\n",
    "#[debug] print(avg_no7)"
   ]
  },
  {
   "cell_type": "code",
   "execution_count": 29,
   "metadata": {
    "metadata": {}
   },
   "outputs": [
    {
     "name": "stdout",
     "output_type": "stream",
     "text": [
      "5.085284280936455\n",
      "9.673913043478262\n",
      "14.301003344481606\n",
      "18.909698996655518\n",
      "23.734113712374583\n",
      "28.60200668896321\n",
      "33.27090301003344\n"
     ]
    }
   ],
   "source": [
    "# 全Noのavgを出力する。\n",
    "count = 1\n",
    "while count <= 7:\n",
    "    no_name = 'avg_no' + str(count)\n",
    "    print(f'{globals()[no_name]}')\n",
    "    count += 1"
   ]
  },
  {
   "cell_type": "code",
   "execution_count": 30,
   "metadata": {
    "metadata": {}
   },
   "outputs": [
    {
     "name": "stdout",
     "output_type": "stream",
     "text": [
      "54\n",
      "5.4\n",
      "第1オクテットの最頻値は1で、109回\n",
      "第2オクテットの最頻値は6で、52回\n",
      "第3オクテットの最頻値は10で、44回\n",
      "第4オクテットの最頻値は18で、45回\n",
      "第5オクテットの最頻値は23で、47回\n",
      "第6オクテットの最頻値は32で、59回\n",
      "第7オクテットの最頻値は36で、102回\n"
     ]
    },
    {
     "data": {
      "image/png": "[encoded data removed]",
      "text/plain": [
       "<Figure size 640x480 with 1 Axes>"
      ]
     },
     "metadata": {},
     "output_type": "display_data"
    }
   ],
   "source": [
    "# [important]:第1-10回までの法則性を見つけ第11回の値が算出できるか。\n",
    "count = 1\n",
    "sum_no1 = 0\n",
    "\n",
    "while count <= 10:\n",
    "    no1_val = (win_numbers['win_num' + str(count)]['no1'])\n",
    "    sum_no1 = sum_no1 + no1_val\n",
    "    count += 1\n",
    "\n",
    "# 1-10の合計値\n",
    "print(sum_no1)\n",
    "\n",
    "# 1-10の平均値（result=5.4）\n",
    "print(sum_no1 / 10)\n",
    "\n",
    "# 第1オクテットだけを出力させたい場合\n",
    "## 最頻値（Mode）: 全n回のデータセット内で最も頻繁に出現する値\n",
    "#first_values = [taple[0] for taple in seen_numbers]\n",
    "\n",
    "# 第1~6オクテットまでをbuik出力\n",
    "count = 0\n",
    "while count <= 6:\n",
    "    first_values = [taple[count] for taple in seen_numbers]\n",
    "    \n",
    "    ## 辞書内包表記を使って1個目の数値が何回現れたのかを数える。\n",
    "    first_values_count = {first: first_values.count(first) for first in first_values }\n",
    "\n",
    "    ## 最頻値の数(valueが大きいkey)を出力させる。\n",
    "    max_key = max(first_values_count, key=first_values_count.get)\n",
    "    max_value = first_values_count[max_key]\n",
    "    print(f\"第{count + 1}オクテットの最頻値は{max_key}で、{max_value}回\")\n",
    "\n",
    "    ## [debug]昇順で全出力させる。\n",
    "    #for key in sorted(first_values_count.keys()): # sorted()関数でキーを昇順にソート\n",
    "    #    print(f\"{key}: {first_values_count[key]}\") # ソートされたキーを使ってループを回し、各キーと対応する値を昇順で出力\n",
    " \n",
    "    count += 1\n",
    "\n",
    "# 中央値（Median）: データを昇順に並べたときの中央値。データが偶数個の場合は中央の2つの値の平均を取る\n",
    "\n",
    "# win_num11のwinningnumberは11であることを算出する。\n",
    "plt.title(\"loto7 is mine.\")           # タイトル\n",
    "\n",
    "# y\n",
    "plt.ylabel(\"winning number\")          # 縦のタイトル\n",
    "y = np.array([7,20,2,12,1,5,1,2,3,1]) # win_num1-10までのwinningnumvber\n",
    "\n",
    "# x\n",
    "plt.xlabel(\"times\")                   # 横のタイトル\n",
    "x = np.array([1,2,3,4,5,6,7,8,9,10])  # 回数\n",
    "\n",
    "# graph出力\n",
    "plt.plot(x, y)\n",
    "plt.show()"
   ]
  },
  {
   "cell_type": "code",
   "execution_count": 67,
   "metadata": {
    "metadata": {}
   },
   "outputs": [],
   "source": [
    "# 1から37までの数字を7つ列挙する全ての組み合わせを生成するジェネレータ\n",
    "from itertools import combinations\n",
    "\n",
    "# combinations.txtの初期化\n",
    "with open(\"combinations.txt\", mode=\"r+\") as f:  # rwでファイルを開くこと\n",
    "    f.truncate(0)\n",
    "\n",
    "def generate_combinations():\n",
    "    numbers = list(range(1, 38))\n",
    "    for combo in combinations(numbers, 7):\n",
    "        yield combo\n",
    "\n",
    "# ファイルへの書き込み\n",
    "with open('combinations.txt', 'w') as file:\n",
    "    # ジェネレータを使用して組み合わせを順次取得し、ファイルに書き込む\n",
    "    combinations_generator = generate_combinations()\n",
    "    for combination in combinations_generator:\n",
    "        # 組み合わせを文字列に変換してファイルに書き込み\n",
    "        line = ', '.join(map(str, combination)) + '\\n'\n",
    "        file.write(line)"
   ]
  },
  {
   "cell_type": "code",
   "execution_count": 68,
   "metadata": {},
   "outputs": [],
   "source": [
    "# combinations.txtからwn_list.txtを削除\n",
    "# （wn_list.txtに存在する7つの値がcombinations.txtに存在いない場合にのみその行をresult.txtに書き込む。）\n",
    "try:\n",
    "    # ファイルを開く\n",
    "    with open('./combinations.txt') as open_combination, open('./wn_list.txt') as open_wn_list:\n",
    "        # ファイルの内容をリストとして取得\n",
    "        combination_lines = open_combination.readlines()\n",
    "        wn_list_lines = open_wn_list.readlines()\n",
    "\n",
    "    # wn_list.txtの内容をセットに変換\n",
    "    wn_set = set(wn_list_lines)\n",
    "\n",
    "    # 結果をresult.txtに書き込む\n",
    "    with open('result.txt', 'w') as result_file:\n",
    "        for line in combination_lines:\n",
    "            if line not in wn_set:\n",
    "                result_file.write(line)\n",
    "\n",
    "except FileNotFoundError as e:\n",
    "    print(f\"エラー: {e.filename} が見つかりませんでした。\")\n",
    "except Exception as e:\n",
    "    print(f\"エラーが発生しました: {str(e)}\")"
   ]
  },
  {
   "cell_type": "code",
   "execution_count": 69,
   "metadata": {},
   "outputs": [
    {
     "name": "stdout",
     "output_type": "stream",
     "text": [
      "10294874\n"
     ]
    }
   ],
   "source": [
    "# 何行残っているかを調べる。\n",
    "# ファイル名を指定する\n",
    "filename = \"result.txt\"\n",
    "\n",
    "# 行数をカウントする変数\n",
    "line_count = 0\n",
    "\n",
    "# ファイルを開いて行数をカウントする\n",
    "with open(filename, \"r\") as file:\n",
    "    for line in file:\n",
    "        line_count += 1  # 各行をカウント\n",
    "\n",
    "# 行数を表示する\n",
    "print(line_count)"
   ]
  },
  {
   "cell_type": "code",
   "execution_count": null,
   "metadata": {},
   "outputs": [],
   "source": [
    "def is_sequential(numbers):\n",
    "    # リストの7つの数字が連続しているかどうかを確認します。各数字が次の数字の1つ前かどうかを調べます。\n",
    "    return all(numbers[i] + 1 == numbers[i + 1] for i in range(len(numbers) - 1))\n",
    "\n",
    "def filter_seven_digit_sequences(input_file, output_file):\n",
    "    with open(input_file, 'r') as infile, open(output_file, 'w') as outfile:\n",
    "        for line in infile:\n",
    "            # カンマやスペースで区切られた文字列から整数のリストを作成\n",
    "            numbers = list(map(int, line.replace(',', '').strip().split()))\n",
    "            \n",
    "            # Check if there are exactly 7 numbers and they are consecutive\n",
    "            duplicate_count = \"\"\n",
    "            if len(numbers) == 7 and is_sequential(numbers):\n",
    "                continue  # 各行が7つの数字から成り、かつそれらが連続している場合はスキップします。\n",
    "                duplicate_count += 1\n",
    "            else:\n",
    "                outfile.write(line)  # Write to output file if it doesn't match the condition\n",
    "\n",
    "# Usage 条件を満たさない行は、新しいファイル (filtered_result.txt) に書き込みます。\n",
    "filter_seven_digit_sequences('result.txt', 'filtered_result.txt')\n",
    "print(dupulicate_count)\n"
   ]
  },
  {
   "cell_type": "code",
   "execution_count": 71,
   "metadata": {},
   "outputs": [
    {
     "name": "stdout",
     "output_type": "stream",
     "text": [
      "10294843\n"
     ]
    }
   ],
   "source": [
    "# 何行残っているかを調べる。\n",
    "# ファイル名を指定する\n",
    "filename = \"filtered_result.txt\"\n",
    "\n",
    "# 行数をカウントする変数\n",
    "line_count = 0\n",
    "\n",
    "# ファイルを開いて行数をカウントする\n",
    "with open(filename, \"r\") as file:\n",
    "    for line in file:\n",
    "        line_count += 1  # 各行をカウント\n",
    "\n",
    "# 行数を表示する\n",
    "print(line_count)"
   ]
  },
  {
   "cell_type": "code",
   "execution_count": null,
   "metadata": {},
   "outputs": [
    {
     "name": "stdout",
     "output_type": "stream",
     "text": [
      "11430 行が削除されました。\n"
     ]
    }
   ],
   "source": [
    "# 1個目が22以上の数字で始まるものを削除する。\n",
    "# ファイル名を指定する。\n",
    "filename = \"filtered_result.txt\"\n",
    "\n",
    "# 削除対象でない行を保持するリスト\n",
    "remaining_lines = []\n",
    "deleted_count = 0  # 削除した行数をカウントする変数\n",
    "\n",
    "# ファイルを開いて内容を読み込む\n",
    "with open(filename, \"r\") as file:\n",
    "    for line in file:\n",
    "        # 各行の数字をスペースで区切りリストにする\n",
    "        numbers = line.strip().split(\",\")\n",
    "\n",
    "        # 1番目の数字が存在するかチェックし、条件に合うかを確認\n",
    "        if len(numbers) > 0:\n",
    "            first_number = numbers[0].strip() \n",
    "            # 1番目の数字が\"22以上\" の数字で始まるものを削除\n",
    "            # startswithは文字列が特定の文字や文字列で始まっているかどうかを確認する時に使用する。\n",
    "            # \"30\"の時にstartswithを使用すると「3で始まるすべての数字」（例: 30, 31, 300 など）に一致してしまう。\n",
    "            if first_number.isdigit() and int(first_number) >= 22:\n",
    "                deleted_count += 1  # 条件に合う行をカウント\n",
    "                continue\n",
    "\n",
    "        # 条件に合わない行を保持\n",
    "        remaining_lines.append(line)\n",
    "\n",
    "# ファイルを上書きして、残りの行のみを書き込む\n",
    "with open(filename, \"w\") as file:\n",
    "    file.writelines(remaining_lines)\n",
    "\n",
    "print(f\"{deleted_count} 行が削除されました。\")"
   ]
  },
  {
   "cell_type": "code",
   "execution_count": 73,
   "metadata": {},
   "outputs": [
    {
     "name": "stdout",
     "output_type": "stream",
     "text": [
      "10283413\n"
     ]
    }
   ],
   "source": [
    "# 何行残っているかを調べる。\n",
    "# ファイル名を指定する\n",
    "filename = \"filtered_result.txt\"\n",
    "\n",
    "# 行数をカウントする変数\n",
    "line_count = 0\n",
    "\n",
    "# ファイルを開いて行数をカウントする\n",
    "with open(filename, \"r\") as file:\n",
    "    for line in file:\n",
    "        line_count += 1  # 各行をカウント\n",
    "\n",
    "# 行数を表示する\n",
    "print(line_count)"
   ]
  },
  {
   "cell_type": "code",
   "execution_count": null,
   "metadata": {},
   "outputs": [
    {
     "name": "stdout",
     "output_type": "stream",
     "text": [
      "0 行が削除されました。\n"
     ]
    }
   ],
   "source": [
    "# 2個目が1または27以上の数字で始まるものを削除する。\n",
    "# ファイル名を指定する。\n",
    "filename = \"filtered_result.txt\"\n",
    "\n",
    "# 削除対象でない行を保持するリスト\n",
    "remaining_lines = []\n",
    "deleted_count = 0  # 削除した行数をカウントする変数\n",
    "\n",
    "# ファイルを開いて内容を読み込む\n",
    "with open(filename, \"r\") as file:\n",
    "    for line in file:\n",
    "        # 各行の数字をスペースで区切りリストにする\n",
    "        numbers = line.strip().split(\",\")\n",
    "\n",
    "        # 2番目の数字が存在するかチェックし、条件に合うかを確認\n",
    "        if len(numbers) > 1:\n",
    "            second_number = numbers[1].strip() \n",
    "            # 2番目の数字が \"1\" で始まる、または \"27\" 以上の数字で始まる場合、削除する。\n",
    "            if second_number.startswith(\"1\") or (second_number.isdigit() and int(second_number) >= 27):\n",
    "                deleted_count += 1  # 条件に合う行をカウント\n",
    "                continue\n",
    "\n",
    "        # 条件に合わない行を保持\n",
    "        remaining_lines.append(line)\n",
    "\n",
    "# ファイルを上書きして、残りの行のみを書き込む\n",
    "with open(filename, \"w\") as file:\n",
    "    file.writelines(remaining_lines)\n",
    "\n",
    "print(f\"{deleted_count} 行が削除されました。\")"
   ]
  },
  {
   "cell_type": "code",
   "execution_count": 65,
   "metadata": {},
   "outputs": [
    {
     "name": "stdout",
     "output_type": "stream",
     "text": [
      "6104938\n"
     ]
    }
   ],
   "source": [
    "# 何行残っているかを調べる。\n",
    "# ファイル名を指定する\n",
    "filename = \"filtered_result.txt\"\n",
    "\n",
    "# 行数をカウントする変数\n",
    "line_count = 0\n",
    "\n",
    "# ファイルを開いて行数をカウントする\n",
    "with open(filename, \"r\") as file:\n",
    "    for line in file:\n",
    "        line_count += 1  # 各行をカウント\n",
    "\n",
    "# 行数を表示する\n",
    "print(line_count)"
   ]
  },
  {
   "cell_type": "code",
   "execution_count": null,
   "metadata": {},
   "outputs": [
    {
     "name": "stdout",
     "output_type": "stream",
     "text": [
      "0 行が削除されました。\n"
     ]
    }
   ],
   "source": [
    "# 3個目が1-2または30か32以上の数字で始まるものを削除する。\n",
    "# ファイル名を指定する。\n",
    "filename = \"filtered_result.txt\"\n",
    "\n",
    "# 削除対象でない行を保持するリスト\n",
    "remaining_lines = []\n",
    "deleted_count = 0  # 削除した行数をカウントする変数\n",
    "\n",
    "# ファイルを開いて内容を読み込む\n",
    "with open(filename, \"r\") as file:\n",
    "    for line in file:\n",
    "        # 各行の数字をスペースで区切りリストにする\n",
    "        numbers = line.strip().split(\",\")\n",
    "\n",
    "        # 3番目の数字が存在するかチェックし、条件に合うかを確認\n",
    "        if len(numbers) > 2:\n",
    "            third_number = numbers[2].strip() \n",
    "            # 3番目の数字が \"1\" または \"2\" で始まる、\"30\" または \"32以上\" の場合、削除する。\n",
    "            # startswithは文字列が特定の文字や文字列で始まっているかどうかを確認する時に使用する。\n",
    "            # \"30\"の時にstartswithを使用すると「3で始まるすべての数字」（例: 30, 31, 300 など）に一致してしまう。\n",
    "            if (third_number.startswith(\"1\") or \n",
    "                third_number.startswith(\"2\") or \n",
    "                third_number == \"30\" or \n",
    "                (third_number.isdigit() and int(third_number) >= 32)):\n",
    "                deleted_count += 1  # 条件に合う行をカウント\n",
    "                continue\n",
    "\n",
    "        # 条件に合わない行を保持\n",
    "        remaining_lines.append(line)\n",
    "\n",
    "# ファイルを上書きして、残りの行のみを書き込む\n",
    "with open(filename, \"w\") as file:\n",
    "    file.writelines(remaining_lines)\n",
    "\n",
    "print(f\"{deleted_count} 行が削除されました。\")\n"
   ]
  },
  {
   "cell_type": "code",
   "execution_count": null,
   "metadata": {},
   "outputs": [
    {
     "name": "stdout",
     "output_type": "stream",
     "text": [
      "0 行が削除されました。\n"
     ]
    }
   ],
   "source": [
    "# 4個目が1-4、35以上の数字で始まるものを削除する。\n",
    "# ファイル名を指定する。\n",
    "filename = \"filtered_result.txt\"\n",
    "\n",
    "# 削除対象でない行を保持するリスト\n",
    "remaining_lines = []\n",
    "deleted_count = 0  # 削除した行数をカウントする変数\n",
    "\n",
    "# ファイルを開いて内容を読み込む\n",
    "with open(filename, \"r\") as file:\n",
    "    for line in file:\n",
    "        # 各行の数字をスペースで区切りリストにする\n",
    "        numbers = line.strip().split(\",\")\n",
    "\n",
    "        # 4番目の数字が存在するかチェックし、条件に合うかを確認\n",
    "        if len(numbers) > 3:\n",
    "            four_number = numbers[3].strip() \n",
    "            # 4番目の数字が \"1-4\" で始まる、または\"35以上\" の場合、削除する。\n",
    "            if (four_number.startswith(\"1\") or\n",
    "                four_number.startswith(\"2\") or\n",
    "                four_number.startswith(\"3\") or\n",
    "                four_number.startswith(\"4\") or\n",
    "                (four_number.isdigit() and int(four_number) >= 35)):\n",
    "                deleted_count += 1  # 条件に合う行をカウント\n",
    "                continue\n",
    "\n",
    "        # 条件に合わない行を保持\n",
    "        remaining_lines.append(line)\n",
    "\n",
    "# ファイルを上書きして、残りの行のみを書き込む\n",
    "with open(filename, \"w\") as file:\n",
    "    file.writelines(remaining_lines)\n",
    "\n",
    "print(f\"{deleted_count} 行が削除されました。\")"
   ]
  },
  {
   "cell_type": "code",
   "execution_count": null,
   "metadata": {},
   "outputs": [
    {
     "name": "stdout",
     "output_type": "stream",
     "text": [
      "0 行が削除されました。\n"
     ]
    }
   ],
   "source": [
    "# 5個目が1-8、36以上の数字で始まるものを削除する。\n",
    "# ファイル名を指定する。\n",
    "filename = \"filtered_result.txt\"\n",
    "\n",
    "# 削除対象でない行を保持するリスト\n",
    "remaining_lines = []\n",
    "deleted_count = 0  # 削除した行数をカウントする変数\n",
    "\n",
    "# ファイルを開いて内容を読み込む\n",
    "with open(filename, \"r\") as file:\n",
    "    for line in file:\n",
    "        # 各行の数字をスペースで区切りリストにする\n",
    "        numbers = line.strip().split(\",\")\n",
    "\n",
    "        # 5番目の数字が存在するかチェックし、条件に合うかを確認\n",
    "        if len(numbers) > 4:\n",
    "            five_number = numbers[4].strip() \n",
    "            # 5番目の数字が \"1-8\" で始まる、または\"36以上\" の場合、削除する。\n",
    "            if (five_number.startswith((\"1\", \"2\", \"3\", \"4\", \"5\", \"6\", \"7\", \"8\")) or\n",
    "                (five_number.isdigit() and int(five_number) >= 36)):\n",
    "                deleted_count += 1  # 条件に合う行をカウント\n",
    "                continue\n",
    "\n",
    "        # 条件に合わない行を保持\n",
    "        remaining_lines.append(line)\n",
    "\n",
    "# ファイルを上書きして、残りの行のみを書き込む\n",
    "with open(filename, \"w\") as file:\n",
    "    file.writelines(remaining_lines)\n",
    "\n",
    "print(f\"{deleted_count} 行が削除されました。\")"
   ]
  },
  {
   "cell_type": "code",
   "execution_count": null,
   "metadata": {},
   "outputs": [
    {
     "name": "stdout",
     "output_type": "stream",
     "text": [
      "0 行が削除されました。\n"
     ]
    }
   ],
   "source": [
    "# 6個目が1-16、37の数字で始まるものを削除する。\n",
    "# ファイル名を指定する。\n",
    "filename = \"filtered_result.txt\"\n",
    "\n",
    "# 削除対象でない行を保持するリスト\n",
    "remaining_lines = []\n",
    "deleted_count = 0  # 削除した行数をカウントする変数\n",
    "\n",
    "# ファイルを開いて内容を読み込む\n",
    "with open(filename, \"r\") as file:\n",
    "    for line in file:\n",
    "        # 各行の数字をスペースで区切りリストにする\n",
    "        numbers = line.strip().split(\",\")\n",
    "\n",
    "        # 6番目の数字が存在するかチェックし、条件に合うかを確認\n",
    "        if len(numbers) > 5:\n",
    "            six_number = numbers[5].strip() \n",
    "            # 6番目の数字が \"1-16\" で始まる、または\"37以上\" の場合\n",
    "            if (six_number.startswith((\"1\", \"2\", \"3\", \"4\", \"5\", \"6\", \"7\", \"8\", \"9\", \"10\", \"11\", \"12\", \"13\", \"14\", \"15\", \"16\")) or\n",
    "                (six_number.isdigit() and int(six_number) >= 37)):\n",
    "                deleted_count += 1  # 条件に合う行をカウント\n",
    "                continue\n",
    "\n",
    "        # 条件に合わない行を保持\n",
    "        remaining_lines.append(line)\n",
    "\n",
    "# ファイルを上書きして、残りの行のみを書き込む\n",
    "with open(filename, \"w\") as file:\n",
    "    file.writelines(remaining_lines)\n",
    "\n",
    "print(f\"{deleted_count} 行が削除されました。\")"
   ]
  },
  {
   "cell_type": "code",
   "execution_count": 81,
   "metadata": {},
   "outputs": [
    {
     "name": "stdout",
     "output_type": "stream",
     "text": [
      "50375 行が削除されました。\n"
     ]
    }
   ],
   "source": [
    "# 7個目が1-19の数字で始まるものを削除する。\n",
    "# ファイル名を指定する。\n",
    "filename = \"filtered_result.txt\"\n",
    "\n",
    "# 削除対象でない行を保持するリスト\n",
    "remaining_lines = []\n",
    "deleted_count = 0  # 削除した行数をカウントする変数\n",
    "\n",
    "# ファイルを開いて内容を読み込む\n",
    "with open(filename, \"r\") as file:\n",
    "    for line in file:\n",
    "        # 各行の数字をカンマで区切りリストにする\n",
    "        numbers = line.strip().split(\",\")\n",
    "\n",
    "        # 7番目の数字が存在するかチェックし、条件に合うかを確認\n",
    "        if len(numbers) > 6:\n",
    "            seven_number = numbers[6].strip() \n",
    "            # 7番目の数字が \"1-19\" の場合\n",
    "            if (seven_number.isdigit() and 1 <= int(seven_number) <= 19):\n",
    "                deleted_count += 1  # 条件に合う行をカウント\n",
    "                continue\n",
    "\n",
    "        # 条件に合わない行を保持\n",
    "        remaining_lines.append(line)\n",
    "\n",
    "# ファイルを上書きして、残りの行のみを書き込む\n",
    "with open(filename, \"w\") as file:\n",
    "    file.writelines(remaining_lines)\n",
    "\n",
    "print(f\"{deleted_count} 行が削除されました。\")"
   ]
  }
 ],
 "metadata": {
  "kernelspec": {
   "display_name": "Python 3",
   "language": "python",
   "name": "python3"
  },
  "language_info": {
   "codemirror_mode": {
    "name": "ipython",
    "version": 3
   },
   "file_extension": ".py",
   "mimetype": "text/x-python",
   "name": "python",
   "nbconvert_exporter": "python",
   "pygments_lexer": "ipython3",
   "version": "3.10.11"
  },
  "orig_nbformat": 4
 },
 "nbformat": 4,
 "nbformat_minor": 2
}
