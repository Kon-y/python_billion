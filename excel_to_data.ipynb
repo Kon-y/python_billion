{
 "cells": [
  {
   "cell_type": "code",
   "execution_count": 1,
   "metadata": {},
   "outputs": [],
   "source": [
    "# module呼び出し\n",
    "import openpyxl\n",
    "import pandas as pd"
   ]
  },
  {
   "cell_type": "code",
   "execution_count": null,
   "metadata": {},
   "outputs": [],
   "source": [
    "# ファイル配置場所を変数に入れて読み取り専用で開く。\n",
    "file_path = \"./Billion.xlsx\"\n",
    "wb = openpyxl.load_workbook(file_path, data_only=True)"
   ]
  },
  {
   "cell_type": "code",
   "execution_count": 3,
   "metadata": {},
   "outputs": [
    {
     "name": "stdout",
     "output_type": "stream",
     "text": [
      "498\n"
     ]
    }
   ],
   "source": [
    "# 抽選回数の最終値を抽出する\n",
    "ws = wb[\"当選番号\"]\n",
    "last_row = ws.max_row\n",
    "#[debug]\n",
    "print(last_row)"
   ]
  },
  {
   "cell_type": "code",
   "execution_count": 4,
   "metadata": {},
   "outputs": [],
   "source": [
    "# 抽選回数分の空データフレームを作成する\n",
    "# ref: 6.1 whileによる反復処理\n",
    "count = 1\n",
    "win_numbers = {}  # 辞書を初期化\n",
    "\n",
    "while count <= last_row:\n",
    "    win_num_name = \"win_num\" + str(count)\n",
    "    #[debug] print(win_num_name)\n",
    "\n",
    "    # cell番号を指定して値を要素に追加する\n",
    "    b_value = ws[\"B\" + str(count)].value\n",
    "    c_value = ws[\"C\" + str(count)].value\n",
    "    d_value = ws[\"D\" + str(count)].value\n",
    "    e_value = ws[\"E\" + str(count)].value\n",
    "    f_value = ws[\"F\" + str(count)].value\n",
    "    g_value = ws[\"G\" + str(count)].value\n",
    "    h_value = ws[\"H\" + str(count)].value\n",
    "    \n",
    "     # Noneの場合に備えて条件を追加\n",
    "    if None not in (b_value, c_value, d_value, e_value, f_value, g_value, h_value):\n",
    "        win_numbers[win_num_name] = {\n",
    "        'no1': int(b_value),\n",
    "        'no2': int(c_value),\n",
    "        'no3': int(d_value),\n",
    "        'no4': int(e_value),\n",
    "        'no5': int(f_value),\n",
    "        'no6': int(g_value),\n",
    "        'no7': int(h_value)\n",
    "        }\n",
    "    count += 1\n",
    "\n",
    "# 特定のwin_numのデータを出力\n",
    "#[debug] print(win_numbers['win_num2'])\n"
   ]
  },
  {
   "cell_type": "code",
   "execution_count": 5,
   "metadata": {},
   "outputs": [
    {
     "data": {
      "text/plain": [
       "5.034136546184739"
      ]
     },
     "execution_count": 5,
     "metadata": {},
     "output_type": "execute_result"
    }
   ],
   "source": [
    "# 全no1の合計値\n",
    "count = 1\n",
    "sum_no1 = 0\n",
    "\n",
    "while count <= last_row:\n",
    "    no1_val = (win_numbers['win_num' + str(count)]['no1'])\n",
    "    sum_no1 = sum_no1 + no1_val\n",
    "    count += 1\n",
    "\n",
    "# output(result)\n",
    "#[debug] print(sum_no1)\n",
    "\n",
    "# no1の中央値の出力\n",
    "sum_no1 / last_row\n"
   ]
  },
  {
   "cell_type": "code",
   "execution_count": 6,
   "metadata": {},
   "outputs": [
    {
     "data": {
      "text/plain": [
       "9.572289156626505"
      ]
     },
     "execution_count": 6,
     "metadata": {},
     "output_type": "execute_result"
    }
   ],
   "source": [
    "# no2の中央値\n",
    "count = 1\n",
    "sum_no2 = 0\n",
    "\n",
    "while count <= last_row:\n",
    "    no2_val = (win_numbers['win_num' + str(count)]['no2'])\n",
    "    sum_no2 = sum_no2 + no2_val\n",
    "    count += 1\n",
    "\n",
    "# output(result)\n",
    "#[debug] print(sum_no2)\n",
    "\n",
    "# no2の中央値の出力\n",
    "sum_no2 / last_row"
   ]
  },
  {
   "cell_type": "code",
   "execution_count": 7,
   "metadata": {},
   "outputs": [
    {
     "data": {
      "text/plain": [
       "14.271084337349398"
      ]
     },
     "execution_count": 7,
     "metadata": {},
     "output_type": "execute_result"
    }
   ],
   "source": [
    "# no3の中央値\n",
    "count = 1\n",
    "sum_no3 = 0\n",
    "\n",
    "while count <= last_row:\n",
    "    no3_val = (win_numbers['win_num' + str(count)]['no3'])\n",
    "    sum_no3 = sum_no3 + no3_val\n",
    "    count += 1\n",
    "\n",
    "# output(result)\n",
    "#[debug] print(sum_no3)\n",
    "\n",
    "# no3の中央値の出力\n",
    "sum_no3 / last_row"
   ]
  },
  {
   "cell_type": "code",
   "execution_count": 8,
   "metadata": {
    "tags": [
     "parameters"
    ]
   },
   "outputs": [
    {
     "data": {
      "text/plain": [
       "18.937751004016064"
      ]
     },
     "execution_count": 8,
     "metadata": {},
     "output_type": "execute_result"
    }
   ],
   "source": [
    "# no4の中央値\n",
    "count = 1\n",
    "sum_no4 = 0\n",
    "\n",
    "while count <= last_row:\n",
    "    no4_val = (win_numbers['win_num' + str(count)]['no4'])\n",
    "    sum_no4 = sum_no4 + no4_val\n",
    "    count += 1\n",
    "\n",
    "# output(result)\n",
    "#[debug] print(sum_no4)\n",
    "\n",
    "# no4の中央値の出力\n",
    "sum_no4 / last_row"
   ]
  },
  {
   "cell_type": "code",
   "execution_count": 9,
   "metadata": {},
   "outputs": [
    {
     "data": {
      "text/plain": [
       "23.917670682730925"
      ]
     },
     "execution_count": 9,
     "metadata": {},
     "output_type": "execute_result"
    }
   ],
   "source": [
    "# no5の中央値\n",
    "count = 1\n",
    "sum_no5 = 0\n",
    "\n",
    "while count <= last_row:\n",
    "    no5_val = (win_numbers['win_num' + str(count)]['no5'])\n",
    "    sum_no5 = sum_no5 + no5_val\n",
    "    count += 1\n",
    "\n",
    "# output(result)\n",
    "#[debug] print(sum_no5)\n",
    "\n",
    "# no5の中央値の出力\n",
    "sum_no5 / last_row"
   ]
  },
  {
   "cell_type": "code",
   "execution_count": 10,
   "metadata": {},
   "outputs": [
    {
     "data": {
      "text/plain": [
       "28.698795180722893"
      ]
     },
     "execution_count": 10,
     "metadata": {},
     "output_type": "execute_result"
    }
   ],
   "source": [
    "# no6の中央値\n",
    "count = 1\n",
    "sum_no6 = 0\n",
    "\n",
    "while count <= last_row:\n",
    "    no6_val = (win_numbers['win_num' + str(count)]['no6'])\n",
    "    sum_no6 = sum_no6 + no6_val\n",
    "    count += 1\n",
    "\n",
    "# output(result)\n",
    "#[debug] print(sum_no6)\n",
    "\n",
    "# no6の中央値の出力\n",
    "sum_no6 / last_row"
   ]
  },
  {
   "cell_type": "code",
   "execution_count": 12,
   "metadata": {},
   "outputs": [
    {
     "data": {
      "text/plain": [
       "33.21084337349398"
      ]
     },
     "execution_count": 12,
     "metadata": {},
     "output_type": "execute_result"
    }
   ],
   "source": [
    "# no7の中央値\n",
    "count = 1\n",
    "sum_no7 = 0\n",
    "\n",
    "while count <= last_row:\n",
    "    no7_val = (win_numbers['win_num' + str(count)]['no7'])\n",
    "    sum_no7 = sum_no7 + no7_val\n",
    "    count += 1\n",
    "\n",
    "# output(result)\n",
    "#[debug] print(sum_no7)\n",
    "\n",
    "# no7の中央値の出力\n",
    "sum_no7 / last_row"
   ]
  }
 ],
 "metadata": {
  "kernelspec": {
   "display_name": "Python 3",
   "language": "python",
   "name": "python3"
  },
  "language_info": {
   "codemirror_mode": {
    "name": "ipython",
    "version": 3
   },
   "file_extension": ".py",
   "mimetype": "text/x-python",
   "name": "python",
   "nbconvert_exporter": "python",
   "pygments_lexer": "ipython3",
   "version": "3.10.11"
  },
  "orig_nbformat": 4
 },
 "nbformat": 4,
 "nbformat_minor": 2
}
