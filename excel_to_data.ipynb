{
 "cells": [
  {
   "cell_type": "markdown",
   "metadata": {},
   "source": [
    "[loto7 winning number page](https://www.mizuhobank.co.jp/retail/takarakuji/check/loto/loto7/index.html)\n",
    "\n",
    "total_number = 全通りの数"
   ]
  },
  {
   "cell_type": "code",
   "execution_count": 2,
   "metadata": {
    "metadata": {}
   },
   "outputs": [],
   "source": [
    "# ライブラリのインポート\n",
    "import openpyxl\n",
    "import pandas as pd\n",
    "import matplotlib.pyplot as plt # データを効率的に操作するためのライブラリ\n",
    "import numpy as np              # グラフを簡単に書くライブラリ\n",
    "import os\n",
    "import difflib"
   ]
  },
  {
   "cell_type": "code",
   "execution_count": 58,
   "metadata": {
    "metadata": {}
   },
   "outputs": [],
   "source": [
    "# ファイル配置場所を変数に入れて読み取り専用で開く\n",
    "file_path = \"./Billion.xlsx\"\n",
    "wb = openpyxl.load_workbook(file_path, data_only=True)"
   ]
  },
  {
   "cell_type": "code",
   "execution_count": 59,
   "metadata": {
    "metadata": {}
   },
   "outputs": [],
   "source": [
    "# ロト7の総当選数(37C7 = 10295472.0)\n",
    "total_number = (37 * 36 * 35 * 34 * 33 * 32 * 31) / (7 * 6 * 5 * 4 * 3 * 2 * 1)\n",
    "#[debug] print(total_number)"
   ]
  },
  {
   "cell_type": "code",
   "execution_count": 60,
   "metadata": {
    "metadata": {}
   },
   "outputs": [],
   "source": [
    "# 抽選回数の最終値を抽出する\n",
    "ws = wb[\"当選番号\"]\n",
    "last_row = ws.max_row\n",
    "#[debug] print(last_row)"
   ]
  },
  {
   "cell_type": "code",
   "execution_count": 61,
   "metadata": {
    "metadata": {}
   },
   "outputs": [],
   "source": [
    "# 重複チェック\n",
    "def check_duplicates(new_data, existing_data):\n",
    "    for key, values in existing_data.items():\n",
    "        if new_data == values:\n",
    "            return True  # 重複が見つかった場合\n",
    "    return False\n",
    "\n",
    "# 抽選回数分の空データフレームを作成する\n",
    "# ref: 6.1 whileによる反復処理\n",
    "count = 1\n",
    "win_numbers = {}  # 辞書を初期化\n",
    "\n",
    "while count <= last_row:\n",
    "    win_num_name = \"win_num\" + str(count)\n",
    "    #[debug] print(win_num_name)\n",
    "\n",
    "    # cell番号を指定して値を要素に追加する\n",
    "    b_value = ws[\"B\" + str(count)].value\n",
    "    c_value = ws[\"C\" + str(count)].value\n",
    "    d_value = ws[\"D\" + str(count)].value\n",
    "    e_value = ws[\"E\" + str(count)].value\n",
    "    f_value = ws[\"F\" + str(count)].value\n",
    "    g_value = ws[\"G\" + str(count)].value\n",
    "    h_value = ws[\"H\" + str(count)].value\n",
    "    \n",
    "     # Noneの場合に備えて条件を追加\n",
    "    if None not in (b_value, c_value, d_value, e_value, f_value, g_value, h_value):\n",
    "        win_numbers[win_num_name] = {\n",
    "        'no1': int(b_value),\n",
    "        'no2': int(c_value),\n",
    "        'no3': int(d_value),\n",
    "        'no4': int(e_value),\n",
    "        'no5': int(f_value),\n",
    "        'no6': int(g_value),\n",
    "        'no7': int(h_value)\n",
    "        }\n",
    "    count += 1\n",
    "\n",
    "# 特定のwin_numのデータを出力\n",
    "#[debug] print(win_numbers['win_num2'])"
   ]
  },
  {
   "cell_type": "code",
   "execution_count": 68,
   "metadata": {
    "metadata": {}
   },
   "outputs": [
    {
     "ename": "TypeError",
     "evalue": "'tuple' object is not callable",
     "output_type": "error",
     "traceback": [
      "\u001b[1;31m---------------------------------------------------------------------------\u001b[0m",
      "\u001b[1;31mTypeError\u001b[0m                                 Traceback (most recent call last)",
      "Cell \u001b[1;32mIn[68], line 9\u001b[0m\n\u001b[0;32m      7\u001b[0m \u001b[38;5;66;03m# 重複チェック処理\u001b[39;00m\n\u001b[0;32m      8\u001b[0m \u001b[38;5;28;01mfor\u001b[39;00m key, value \u001b[38;5;129;01min\u001b[39;00m win_numbers\u001b[38;5;241m.\u001b[39mitems():\n\u001b[1;32m----> 9\u001b[0m     numbers_tuple \u001b[38;5;241m=\u001b[39m \u001b[38;5;28;43mtuple\u001b[39;49m\u001b[43m(\u001b[49m\u001b[43mvalue\u001b[49m\u001b[38;5;241;43m.\u001b[39;49m\u001b[43mvalues\u001b[49m\u001b[43m(\u001b[49m\u001b[43m)\u001b[49m\u001b[43m)\u001b[49m \u001b[38;5;66;03m# key=win_num1 value={'no1': 7, 'no2': 10, 'no3': 12, 'no4': 17, 'no5': 23, 'no6': 28, 'no7': 34}\u001b[39;00m\n\u001b[0;32m     10\u001b[0m     \u001b[38;5;66;03m#[debug] print(numbers_tuple) # 出力 -> (7, 10, 12, 17, 23, 28, 34)    \u001b[39;00m\n\u001b[0;32m     12\u001b[0m     \u001b[38;5;28;01mif\u001b[39;00m numbers_tuple \u001b[38;5;129;01min\u001b[39;00m seen_numbers:\n\u001b[0;32m     13\u001b[0m         \u001b[38;5;66;03m# 重複がある場合\u001b[39;00m\n",
      "\u001b[1;31mTypeError\u001b[0m: 'tuple' object is not callable"
     ]
    }
   ],
   "source": [
    "# 重複をチェックするためのセット\n",
    "seen_numbers = set()\n",
    "\n",
    "# 重複があるかどうかのフラグ\n",
    "has_duplicates = False\n",
    "\n",
    "# 重複チェック処理\n",
    "for key, value in win_numbers.items():\n",
    "    numbers_tuple = tuple(value.values()) # key=win_num1 value={'no1': 7, 'no2': 10, 'no3': 12, 'no4': 17, 'no5': 23, 'no6': 28, 'no7': 34}\n",
    "    #[debug] print(numbers_tuple) # 出力 -> (7, 10, 12, 17, 23, 28, 34)    \n",
    "\n",
    "    if numbers_tuple in seen_numbers:\n",
    "        # 重複がある場合\n",
    "        has_duplicates = True\n",
    "        print(f\"重複したデータが見つかりました: {key} - {value}\")\n",
    "    else:\n",
    "        # 重複がない場合、セットに追加\n",
    "        seen_numbers.add(numbers_tuple)\n",
    "\n",
    "#if not has_duplicates:\n",
    "#    print(\"重複したデータはありません。\") # 重複したときだけメッセージ出したいためコメントアウト\n",
    "\n",
    "# wn_list.txtの初期化\n",
    "with open(\"wn_list.txt\", mode=\"r+\") as f:  # rwでファイルを開くこと\n",
    "    f.truncate(0)\n",
    "\n",
    "# wn_list.txt(当選番号のみのリスト)を作成\n",
    "with open('wn_list.txt', 'w') as f:\n",
    "    for wn_list in seen_numbers:\n",
    "        f.write(', '.join(map(str, wn_list)) + '\\n') # リストの各要素を文字列に変換し、カンマで区切って一つの文字列に結合している。\n",
    "\n",
    "#[debug] print(seen_numbers)"
   ]
  },
  {
   "cell_type": "code",
   "execution_count": 67,
   "metadata": {
    "metadata": {}
   },
   "outputs": [
    {
     "name": "stdout",
     "output_type": "stream",
     "text": [
      "10294898.0\n"
     ]
    }
   ],
   "source": [
    "# 重複してなかったらtotal_numberから回数分引く。\n",
    "total_number_latest = total_number - last_row\n",
    "#[debug] \n",
    "print(total_number_latest)"
   ]
  },
  {
   "cell_type": "code",
   "execution_count": 9,
   "metadata": {
    "metadata": {}
   },
   "outputs": [],
   "source": [
    "# 全no1の合計値\n",
    "count = 1\n",
    "sum_no1 = 0\n",
    "\n",
    "while count <= last_row:\n",
    "    no1_val = (win_numbers['win_num' + str(count)]['no1'])\n",
    "    sum_no1 = sum_no1 + no1_val\n",
    "    count += 1\n",
    "\n",
    "# output(result)\n",
    "#[debug] print(sum_no1)\n",
    "\n",
    "# no1の平均値の出力\n",
    "avg_no1 = None\n",
    "globals()['avg_no1'] = sum_no1 / last_row\n",
    "#[debug] print(avg_no1)"
   ]
  },
  {
   "cell_type": "code",
   "execution_count": 10,
   "metadata": {
    "metadata": {}
   },
   "outputs": [],
   "source": [
    "# no2の平均値\n",
    "count = 1\n",
    "sum_no2 = 0\n",
    "\n",
    "while count <= last_row:\n",
    "    no2_val = (win_numbers['win_num' + str(count)]['no2'])\n",
    "    sum_no2 = sum_no2 + no2_val\n",
    "    count += 1\n",
    "\n",
    "# output(result)\n",
    "#[debug] print(sum_no2)\n",
    "\n",
    "# no2の平均値の出力\n",
    "avg_no2 = None\n",
    "globals()['avg_no2'] = sum_no2 / last_row"
   ]
  },
  {
   "cell_type": "code",
   "execution_count": 11,
   "metadata": {
    "metadata": {}
   },
   "outputs": [],
   "source": [
    "# no3の平均値\n",
    "count = 1\n",
    "sum_no3 = 0\n",
    "\n",
    "while count <= last_row:\n",
    "    no3_val = (win_numbers['win_num' + str(count)]['no3'])\n",
    "    sum_no3 = sum_no3 + no3_val\n",
    "    count += 1\n",
    "\n",
    "# output(result)\n",
    "#[debug] print(sum_no3)\n",
    "\n",
    "# no3の平均値の出力\n",
    "avg_no3 = None\n",
    "globals()['avg_no3'] = sum_no3 / last_row"
   ]
  },
  {
   "cell_type": "code",
   "execution_count": 12,
   "metadata": {
    "metadata": {},
    "tags": []
   },
   "outputs": [],
   "source": [
    "# no4の平均値\n",
    "count = 1\n",
    "sum_no4 = 0\n",
    "\n",
    "while count <= last_row:\n",
    "    no4_val = (win_numbers['win_num' + str(count)]['no4'])\n",
    "    sum_no4 = sum_no4 + no4_val\n",
    "    count += 1\n",
    "\n",
    "# output(result)\n",
    "#[debug] print(sum_no4)\n",
    "\n",
    "# no4の平均値の出力\n",
    "avg_no4 = None\n",
    "globals()['avg_no4'] = sum_no4 / last_row"
   ]
  },
  {
   "cell_type": "code",
   "execution_count": 13,
   "metadata": {
    "metadata": {}
   },
   "outputs": [],
   "source": [
    "# no5の平均値\n",
    "count = 1\n",
    "sum_no5 = 0\n",
    "\n",
    "while count <= last_row:\n",
    "    no5_val = (win_numbers['win_num' + str(count)]['no5'])\n",
    "    sum_no5 = sum_no5 + no5_val\n",
    "    count += 1\n",
    "\n",
    "# output(result)\n",
    "#[debug] print(sum_no5)\n",
    "\n",
    "# no5の平均値の出力\n",
    "avg_no5 = None\n",
    "globals()['avg_no5'] = sum_no5 / last_row"
   ]
  },
  {
   "cell_type": "code",
   "execution_count": 14,
   "metadata": {
    "metadata": {}
   },
   "outputs": [],
   "source": [
    "# no6の平均値\n",
    "count = 1\n",
    "sum_no6 = 0\n",
    "\n",
    "while count <= last_row:\n",
    "    no6_val = (win_numbers['win_num' + str(count)]['no6'])\n",
    "    sum_no6 = sum_no6 + no6_val\n",
    "    count += 1\n",
    "\n",
    "# output(result)\n",
    "#[debug] print(sum_no6)\n",
    "\n",
    "# no6の平均値の出力\n",
    "avg_no6 = None\n",
    "globals()['avg_no6'] = sum_no6 / last_row"
   ]
  },
  {
   "cell_type": "code",
   "execution_count": 15,
   "metadata": {
    "metadata": {}
   },
   "outputs": [],
   "source": [
    "# no7の平均値\n",
    "count = 1\n",
    "sum_no7 = 0\n",
    "\n",
    "while count <= last_row:\n",
    "    no7_val = (win_numbers['win_num' + str(count)]['no7'])\n",
    "    sum_no7 = sum_no7 + no7_val\n",
    "    count += 1\n",
    "\n",
    "# output(result)\n",
    "#[debug] print(sum_no7)\n",
    "\n",
    "# no7の平均値の出力\n",
    "avg_no7 = None\n",
    "globals()['avg_no7'] = sum_no7 / last_row\n",
    "#[debug] print(globals()['avg_no7'])"
   ]
  },
  {
   "cell_type": "code",
   "execution_count": 16,
   "metadata": {
    "metadata": {}
   },
   "outputs": [
    {
     "name": "stdout",
     "output_type": "stream",
     "text": [
      "5.087813620071684\n",
      "9.666666666666666\n",
      "14.304659498207885\n",
      "18.95878136200717\n",
      "23.845878136200717\n",
      "28.668458781362006\n",
      "33.270609318996414\n"
     ]
    }
   ],
   "source": [
    "# 全Noのavgを出力する。\n",
    "count = 1\n",
    "while count <= 7:\n",
    "    no_name = 'avg_no' + str(count)\n",
    "    print(f'{globals()[no_name]}')\n",
    "    count += 1"
   ]
  },
  {
   "cell_type": "code",
   "execution_count": null,
   "metadata": {
    "metadata": {}
   },
   "outputs": [],
   "source": [
    "# [important]:第1-10回までの法則性を見つけ第11回の値が算出できるか。\n",
    "count = 1\n",
    "sum_no1 = 0\n",
    "\n",
    "while count <= 10:\n",
    "    no1_val = (win_numbers['win_num' + str(count)]['no1'])\n",
    "    sum_no1 = sum_no1 + no1_val\n",
    "    count += 1\n",
    "\n",
    "# 1-10の合計値\n",
    "print(sum_no1)\n",
    "\n",
    "# 1-10の平均値（result=5.4）\n",
    "print(sum_no1 / 10)\n",
    "\n",
    "# 第1オクテットだけを出力させたい場合\n",
    "## 最頻値（Mode）: 全n回のデータセット内で最も頻繁に出現する値\n",
    "#first_values = [taple[0] for taple in seen_numbers]\n",
    "\n",
    "# 第1~6オクテットまでをbuik出力\n",
    "count = 0\n",
    "while count <= 6:\n",
    "    first_values = [taple[count] for taple in seen_numbers]\n",
    "    \n",
    "    ## 辞書内包表記を使って1個目の数値が何回現れたのかを数える。\n",
    "    first_values_count = {first: first_values.count(first) for first in first_values }\n",
    "\n",
    "    ## 最頻値の数(valueが大きいkey)を出力させる。\n",
    "    max_key = max(first_values_count, key=first_values_count.get)\n",
    "    max_value = first_values_count[max_key]\n",
    "    print(f\"第{count + 1}オクテットの最頻値は{max_key}で、{max_value}回\")\n",
    "\n",
    "    ## [debug]昇順で全出力させる。\n",
    "    #for key in sorted(first_values_count.keys()): # sorted()関数でキーを昇順にソート\n",
    "    #    print(f\"{key}: {first_values_count[key]}\") # ソートされたキーを使ってループを回し、各キーと対応する値を昇順で出力\n",
    " \n",
    "    count += 1\n",
    "\n",
    "# 中央値（Median）: データを昇順に並べたときの中央値。データが偶数個の場合は中央の2つの値の平均を取る\n",
    "\n",
    "# win_num11のwinningnumberは11であることを算出する。\n",
    "plt.title(\"loto7 is mine.\")           # タイトル\n",
    "\n",
    "# y\n",
    "plt.ylabel(\"winning number\")          # 縦のタイトル\n",
    "y = np.array([7,20,2,12,1,5,1,2,3,1]) # win_num1-10までのwinningnumvber\n",
    "\n",
    "# x\n",
    "plt.xlabel(\"times\")                   # 横のタイトル\n",
    "x = np.array([1,2,3,4,5,6,7,8,9,10])  # 回数\n",
    "\n",
    "# graph出力\n",
    "plt.plot(x, y)\n",
    "plt.show()"
   ]
  },
  {
   "cell_type": "code",
   "execution_count": 54,
   "metadata": {
    "metadata": {}
   },
   "outputs": [],
   "source": [
    "# 1から37までの数字を7つ列挙する全ての組み合わせを生成するジェネレータ\n",
    "from itertools import combinations\n",
    "\n",
    "# combinations.txtの初期化\n",
    "with open(\"combinations.txt\", mode=\"r+\") as f:  # rwでファイルを開くこと\n",
    "    f.truncate(0)\n",
    "\n",
    "def generate_combinations():\n",
    "    numbers = list(range(1, 38))\n",
    "    for combo in combinations(numbers, 7):\n",
    "        yield combo\n",
    "\n",
    "# ファイルへの書き込み\n",
    "with open('combinations.txt', 'w') as file:\n",
    "    # ジェネレータを使用して組み合わせを順次取得し、ファイルに書き込む\n",
    "    combinations_generator = generate_combinations()\n",
    "    for combination in combinations_generator:\n",
    "        # 組み合わせを文字列に変換してファイルに書き込み\n",
    "        line = ', '.join(map(str, combination)) + '\\n'\n",
    "        file.write(line)"
   ]
  },
  {
   "cell_type": "code",
   "execution_count": 55,
   "metadata": {
    "metadata": {}
   },
   "outputs": [],
   "source": [
    "# combinations.txtからwn_list.txtを削除\n",
    "# reference : https://python-academia.com/file-comparison/\n",
    "try:\n",
    "    with open('./combinations.txt') as open_combination, open('./wn_list.txt') as open_wn_list:\n",
    "        # Differオブジェクトを生成\n",
    "        diff = difflib.Differ()\n",
    "\n",
    "        # 差分生成\n",
    "        output_diff = diff.compare(open_combination.readlines(), open_wn_list.readlines())\n",
    "\n",
    "    # result.txtの初期化\n",
    "    with open(\"result.txt\", mode=\"r+\") as f:  # rwでファイルを開くこと\n",
    "        f.truncate(0)\n",
    "\n",
    "    with open('result.txt', 'w') as file:\n",
    "        for data in output_diff:\n",
    "            # 行がwn_list.txtに存在しない場合にのみ書き込み\n",
    "            if data.startswith('-') and not any(char.isdigit() for char in data):\n",
    "                file.write(data[2:])  # '-'を取り除いて書き込み\n",
    "            \n",
    "except FileNotFoundError as e:\n",
    "    print(f\"エラー: {e.filename} が見つかりませんでした。\")\n",
    "except Exception as e:\n",
    "    print(f\"エラーが発生しました: {str(e)}\")"
   ]
  },
  {
   "cell_type": "code",
   "execution_count": null,
   "metadata": {},
   "outputs": [],
   "source": [
    "# combinations.txtからwn_list.txtを削除\n",
    "with open('./combinations.txt') as open_combination, open('./wn_list.txt') as open_wn_list:\n",
    "    # combinations.txt の各行をセットに変換\n",
    "    combinations_set = set(open_combination.read().splitlines())\n",
    "\n",
    "    # wn_list.txt の各行をセットに変換\n",
    "    wn_list_set = set(open_wn_list.read().splitlines())\n",
    "\n",
    "# result.txtの初期化\n",
    "with open(\"result.txt\", mode=\"w\") as f:\n",
    "    f.truncate(0)\n",
    "\n",
    "# wn_list.txtに存在しない組み合わせをresult.txtに書き込む\n",
    "with open('result.txt', 'w') as file:\n",
    "    for combination in combinations_set - wn_list_set:\n",
    "        file.write(combination + '\\n')"
   ]
  },
  {
   "cell_type": "code",
   "execution_count": null,
   "metadata": {},
   "outputs": [],
   "source": [
    "# no1が奇数の時、no2は奇数？偶数？"
   ]
  },
  {
   "cell_type": "code",
   "execution_count": 45,
   "metadata": {},
   "outputs": [
    {
     "ename": "AttributeError",
     "evalue": "'list' object has no attribute 'rstrip'",
     "output_type": "error",
     "traceback": [
      "\u001b[1;31m---------------------------------------------------------------------------\u001b[0m",
      "\u001b[1;31mAttributeError\u001b[0m                            Traceback (most recent call last)",
      "Cell \u001b[1;32mIn[45], line 3\u001b[0m\n\u001b[0;32m      1\u001b[0m \u001b[38;5;66;03m# no1で出ていない数\u001b[39;00m\n\u001b[0;32m      2\u001b[0m \u001b[38;5;28;01mwith\u001b[39;00m \u001b[38;5;28mopen\u001b[39m(\u001b[38;5;124m'\u001b[39m\u001b[38;5;124mwn_list.txt\u001b[39m\u001b[38;5;124m'\u001b[39m, \u001b[38;5;124m'\u001b[39m\u001b[38;5;124mr\u001b[39m\u001b[38;5;124m'\u001b[39m) \u001b[38;5;28;01mas\u001b[39;00m f:\n\u001b[1;32m----> 3\u001b[0m     numbers \u001b[38;5;241m=\u001b[39m \u001b[43mf\u001b[49m\u001b[38;5;241;43m.\u001b[39;49m\u001b[43mreadlines\u001b[49m\u001b[43m(\u001b[49m\u001b[43m)\u001b[49m\u001b[38;5;241;43m.\u001b[39;49m\u001b[43mrstrip\u001b[49m(\u001b[38;5;124m\"\u001b[39m\u001b[38;5;130;01m\\n\u001b[39;00m\u001b[38;5;124m\"\u001b[39m)\n\u001b[0;32m      4\u001b[0m \u001b[38;5;28mprint\u001b[39m(numbers)\n",
      "\u001b[1;31mAttributeError\u001b[0m: 'list' object has no attribute 'rstrip'"
     ]
    }
   ],
   "source": [
    "# no1で出ていない数\n",
    "with open('wn_list.txt', 'r') as f:\n",
    "    numbers = f.readlines().rstrip(\"\\n\")\n",
    "print(numbers)"
   ]
  },
  {
   "cell_type": "code",
   "execution_count": null,
   "metadata": {},
   "outputs": [],
   "source": []
  }
 ],
 "metadata": {
  "kernelspec": {
   "display_name": "Python 3",
   "language": "python",
   "name": "python3"
  },
  "language_info": {
   "codemirror_mode": {
    "name": "ipython",
    "version": 3
   },
   "file_extension": ".py",
   "mimetype": "text/x-python",
   "name": "python",
   "nbconvert_exporter": "python",
   "pygments_lexer": "ipython3",
   "version": "3.10.11"
  },
  "orig_nbformat": 4
 },
 "nbformat": 4,
 "nbformat_minor": 2
}
