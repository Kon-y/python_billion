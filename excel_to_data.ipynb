{
 "cells": [
  {
   "cell_type": "code",
   "execution_count": 7,
   "metadata": {},
   "outputs": [],
   "source": [
    "# module呼び出し\n",
    "import openpyxl\n",
    "import pandas as pd"
   ]
  },
  {
   "cell_type": "code",
   "execution_count": 14,
   "metadata": {},
   "outputs": [],
   "source": [
    "# ファイル配置場所を変数に入れて読み取り専用で開く。\n",
    "file_path = \"./Billion.xlsx\"\n",
    "wb = openpyxl.load_workbook(file_path, data_only=True)"
   ]
  },
  {
   "cell_type": "code",
   "execution_count": 17,
   "metadata": {},
   "outputs": [
    {
     "name": "stdout",
     "output_type": "stream",
     "text": [
      "498\n"
     ]
    }
   ],
   "source": [
    "# 抽選回数の最終値を抽出する\n",
    "ws = wb[\"当選番号\"]\n",
    "last_row = ws.max_row\n",
    "#[debug]\n",
    "print(last_row)"
   ]
  },
  {
   "cell_type": "code",
   "execution_count": 81,
   "metadata": {},
   "outputs": [],
   "source": [
    "# 抽選回数分の空データフレームを作成する\n",
    "# ref: 6.1 whileによる反復処理\n",
    "count = 1\n",
    "win_numbers = {}  # 辞書を初期化\n",
    "\n",
    "while count <= last_row:\n",
    "    win_num_name = \"win_num\" + str(count)\n",
    "    #[debug] print(win_num_name)\n",
    "\n",
    "    # cell番号を指定して値を要素に追加する\n",
    "    b_value = ws[\"B\" + str(count)].value\n",
    "    c_value = ws[\"C\" + str(count)].value\n",
    "    d_value = ws[\"D\" + str(count)].value\n",
    "    e_value = ws[\"E\" + str(count)].value\n",
    "    f_value = ws[\"F\" + str(count)].value\n",
    "    g_value = ws[\"G\" + str(count)].value\n",
    "    h_value = ws[\"H\" + str(count)].value\n",
    "    \n",
    "     # Noneの場合に備えて条件を追加\n",
    "    if None not in (b_value, c_value, d_value, e_value, f_value, g_value, h_value):\n",
    "        win_numbers[win_num_name] = {\n",
    "        'no1': int(b_value),\n",
    "        'no2': int(c_value),\n",
    "        'no3': int(d_value),\n",
    "        'no4': int(e_value),\n",
    "        'no5': int(f_value),\n",
    "        'no6': int(g_value),\n",
    "        'no7': int(h_value)\n",
    "        }\n",
    "    count += 1\n",
    "\n",
    "# 特定のwin_numのデータを出力\n",
    "#[debug] print(win_numbers['win_num2'])"
   ]
  },
  {
   "cell_type": "code",
   "execution_count": 77,
   "metadata": {},
   "outputs": [
    {
     "data": {
      "text/plain": [
       "20"
      ]
     },
     "execution_count": 77,
     "metadata": {},
     "output_type": "execute_result"
    }
   ],
   "source": [
    "# テスト用"
   ]
  },
  {
   "cell_type": "code",
   "execution_count": 88,
   "metadata": {},
   "outputs": [
    {
     "data": {
      "text/plain": [
       "5.034136546184739"
      ]
     },
     "execution_count": 88,
     "metadata": {},
     "output_type": "execute_result"
    }
   ],
   "source": [
    "# 全no1の合計値\n",
    "count = 1\n",
    "sum_no1 = 0\n",
    "\n",
    "while count <= last_row:\n",
    "    no1_val = (win_numbers['win_num' + str(count)]['no1'])\n",
    "    sum_no1 = sum_no1 + no1_val\n",
    "    count += 1\n",
    "\n",
    "# output(result)\n",
    "#[debug] print(sum_no1)\n",
    "\n",
    "# no1の中央値の出力\n",
    "sum_no1 / last_row\n"
   ]
  },
  {
   "cell_type": "code",
   "execution_count": 91,
   "metadata": {},
   "outputs": [
    {
     "data": {
      "text/plain": [
       "9.572289156626505"
      ]
     },
     "execution_count": 91,
     "metadata": {},
     "output_type": "execute_result"
    }
   ],
   "source": [
    "# no2の中央値\n",
    "count = 1\n",
    "sum_no2 = 0\n",
    "\n",
    "while count <= last_row:\n",
    "    no2_val = (win_numbers['win_num' + str(count)]['no2'])\n",
    "    sum_no2 = sum_no2 + no2_val\n",
    "    count += 1\n",
    "\n",
    "# output(result)\n",
    "#[debug] print(sum_no1)\n",
    "\n",
    "# no1の中央値の出力\n",
    "sum_no2 / last_row"
   ]
  },
  {
   "cell_type": "code",
   "execution_count": 3,
   "metadata": {},
   "outputs": [],
   "source": [
    "# no3の中央値"
   ]
  },
  {
   "cell_type": "code",
   "execution_count": 4,
   "metadata": {
    "tags": [
     "parameters"
    ]
   },
   "outputs": [],
   "source": [
    "# no4の中央値"
   ]
  },
  {
   "cell_type": "code",
   "execution_count": 5,
   "metadata": {},
   "outputs": [],
   "source": [
    "# no5の中央値"
   ]
  },
  {
   "cell_type": "code",
   "execution_count": 6,
   "metadata": {},
   "outputs": [],
   "source": [
    "# no6の中央値"
   ]
  },
  {
   "cell_type": "code",
   "execution_count": null,
   "metadata": {},
   "outputs": [],
   "source": [
    "# no7の中央値"
   ]
  }
 ],
 "metadata": {
  "kernelspec": {
   "display_name": "Python 3",
   "language": "python",
   "name": "python3"
  },
  "language_info": {
   "codemirror_mode": {
    "name": "ipython",
    "version": 3
   },
   "file_extension": ".py",
   "mimetype": "text/x-python",
   "name": "python",
   "nbconvert_exporter": "python",
   "pygments_lexer": "ipython3",
   "version": "3.10.11"
  },
  "orig_nbformat": 4
 },
 "nbformat": 4,
 "nbformat_minor": 2
}
