{
 "cells": [
  {
   "cell_type": "code",
   "execution_count": 1,
   "metadata": {},
   "outputs": [],
   "source": [
    "# ライブラリのインポート\n",
    "import openpyxl\n",
    "import pandas as pd\n",
    "import matplotlib.pyplot as plt # データを効率的に操作するためのライブラリ\n",
    "import numpy as np              # グラフを簡単に書くライブラリ"
   ]
  },
  {
   "cell_type": "code",
   "execution_count": 2,
   "metadata": {},
   "outputs": [],
   "source": [
    "# ファイル配置場所を変数に入れて読み取り専用で開く\n",
    "file_path = \"./Billion.xlsx\"\n",
    "wb = openpyxl.load_workbook(file_path, data_only=True)"
   ]
  },
  {
   "cell_type": "code",
   "execution_count": 3,
   "metadata": {},
   "outputs": [],
   "source": [
    "# ロト7の総当選数(37C7 = 10295472.0)\n",
    "total_number = (37 * 36 * 35 * 34 * 33 * 32 * 31) / (7 * 6 * 5 * 4 * 3 * 2 * 1)\n",
    "#[debug] print(total_number)"
   ]
  },
  {
   "cell_type": "code",
   "execution_count": 4,
   "metadata": {},
   "outputs": [],
   "source": [
    "# 抽選回数の最終値を抽出する\n",
    "ws = wb[\"当選番号\"]\n",
    "last_row = ws.max_row\n",
    "#[debug] print(last_row)"
   ]
  },
  {
   "cell_type": "code",
   "execution_count": 5,
   "metadata": {},
   "outputs": [],
   "source": [
    "# 重複チェック\n",
    "def check_duplicates(new_data, existing_data):\n",
    "    for key, values in existing_data.items():\n",
    "        if new_data == values:\n",
    "            return True  # 重複が見つかった場合\n",
    "    return False\n",
    "\n",
    "# 抽選回数分の空データフレームを作成する\n",
    "# ref: 6.1 whileによる反復処理\n",
    "count = 1\n",
    "win_numbers = {}  # 辞書を初期化\n",
    "\n",
    "while count <= last_row:\n",
    "    win_num_name = \"win_num\" + str(count)\n",
    "    #[debug] print(win_num_name)\n",
    "\n",
    "    # cell番号を指定して値を要素に追加する\n",
    "    b_value = ws[\"B\" + str(count)].value\n",
    "    c_value = ws[\"C\" + str(count)].value\n",
    "    d_value = ws[\"D\" + str(count)].value\n",
    "    e_value = ws[\"E\" + str(count)].value\n",
    "    f_value = ws[\"F\" + str(count)].value\n",
    "    g_value = ws[\"G\" + str(count)].value\n",
    "    h_value = ws[\"H\" + str(count)].value\n",
    "    \n",
    "     # Noneの場合に備えて条件を追加\n",
    "    if None not in (b_value, c_value, d_value, e_value, f_value, g_value, h_value):\n",
    "        win_numbers[win_num_name] = {\n",
    "        'no1': int(b_value),\n",
    "        'no2': int(c_value),\n",
    "        'no3': int(d_value),\n",
    "        'no4': int(e_value),\n",
    "        'no5': int(f_value),\n",
    "        'no6': int(g_value),\n",
    "        'no7': int(h_value)\n",
    "        }\n",
    "    count += 1\n",
    "\n",
    "# 特定のwin_numのデータを出力\n",
    "#[debug] print(win_numbers['win_num2'])"
   ]
  },
  {
   "cell_type": "code",
   "execution_count": 23,
   "metadata": {},
   "outputs": [],
   "source": [
    "# 重複をチェックするためのセット\n",
    "seen_numbers = set()\n",
    "\n",
    "# 重複があるかどうかのフラグ\n",
    "has_duplicates = False\n",
    "\n",
    "# 重複チェック処理\n",
    "for key, value in win_numbers.items():\n",
    "    numbers_tuple = tuple(value.values()) # key=win_num1 value={'no1': 7, 'no2': 10, 'no3': 12, 'no4': 17, 'no5': 23, 'no6': 28, 'no7': 34}\n",
    "    #[debug] print(numbers_tuple) # 出力 -> (7, 10, 12, 17, 23, 28, 34)    \n",
    "\n",
    "    if numbers_tuple in seen_numbers:\n",
    "        # 重複がある場合\n",
    "        has_duplicates = True\n",
    "        print(f\"重複したデータが見つかりました: {key} - {value}\")\n",
    "    else:\n",
    "        # 重複がない場合、セットに追加\n",
    "        seen_numbers.add(numbers_tuple)\n",
    "\n",
    "#if not has_duplicates:\n",
    "#    print(\"重複したデータはありません。\") # 重複したときだけメッセージ出したいためコメントアウト\n",
    "\n",
    "# wn_list.txtの初期化\n",
    "with open(\"wn_list.txt\", mode=\"r+\") as f:  # rwでファイルを開くこと\n",
    "    f.truncate(0)\n",
    "\n",
    "# wn_list.txt(当選番号のみのリスト)を作成\n",
    "with open('wn_list.txt', 'w') as f:\n",
    "    for wn_list in seen_numbers:\n",
    "        f.write(', '.join(map(str, wn_list)) + '\\n') # リストの各要素を文字列に変換し、カンマで区切って一つの文字列に結合している。\n",
    "\n",
    "#[debug] print(seen_numbers)"
   ]
  },
  {
   "cell_type": "code",
   "execution_count": 24,
   "metadata": {},
   "outputs": [],
   "source": [
    "# 重複してなかったらtotal_numberから回数分引く。\n",
    "total_number_latest = total_number - last_row\n",
    "#[debug] print(total_number_latest)"
   ]
  },
  {
   "cell_type": "code",
   "execution_count": 25,
   "metadata": {},
   "outputs": [
    {
     "data": {
      "text/plain": [
       "5.041749502982108"
      ]
     },
     "execution_count": 25,
     "metadata": {},
     "output_type": "execute_result"
    }
   ],
   "source": [
    "# 全no1の合計値\n",
    "count = 1\n",
    "sum_no1 = 0\n",
    "\n",
    "while count <= last_row:\n",
    "    no1_val = (win_numbers['win_num' + str(count)]['no1'])\n",
    "    sum_no1 = sum_no1 + no1_val\n",
    "    count += 1\n",
    "\n",
    "# output(result)\n",
    "#[debug] print(sum_no1)\n",
    "\n",
    "# no1の平均値の出力\n",
    "sum_no1 / last_row"
   ]
  },
  {
   "cell_type": "code",
   "execution_count": null,
   "metadata": {},
   "outputs": [],
   "source": [
    "# no2の平均値\n",
    "count = 1\n",
    "sum_no2 = 0\n",
    "\n",
    "while count <= last_row:\n",
    "    no2_val = (win_numbers['win_num' + str(count)]['no2'])\n",
    "    sum_no2 = sum_no2 + no2_val\n",
    "    count += 1\n",
    "\n",
    "# output(result)\n",
    "#[debug] print(sum_no2)\n",
    "\n",
    "# no2の平均値の出力\n",
    "sum_no2 / last_row"
   ]
  },
  {
   "cell_type": "code",
   "execution_count": null,
   "metadata": {},
   "outputs": [],
   "source": [
    "# no3の平均値\n",
    "count = 1\n",
    "sum_no3 = 0\n",
    "\n",
    "while count <= last_row:\n",
    "    no3_val = (win_numbers['win_num' + str(count)]['no3'])\n",
    "    sum_no3 = sum_no3 + no3_val\n",
    "    count += 1\n",
    "\n",
    "# output(result)\n",
    "#[debug] print(sum_no3)\n",
    "\n",
    "# no3の平均値の出力\n",
    "sum_no3 / last_row"
   ]
  },
  {
   "cell_type": "code",
   "execution_count": null,
   "metadata": {
    "tags": [
     "parameters"
    ]
   },
   "outputs": [],
   "source": [
    "# no4の平均値\n",
    "count = 1\n",
    "sum_no4 = 0\n",
    "\n",
    "while count <= last_row:\n",
    "    no4_val = (win_numbers['win_num' + str(count)]['no4'])\n",
    "    sum_no4 = sum_no4 + no4_val\n",
    "    count += 1\n",
    "\n",
    "# output(result)\n",
    "#[debug] print(sum_no4)\n",
    "\n",
    "# no4の平均値の出力\n",
    "sum_no4 / last_row"
   ]
  },
  {
   "cell_type": "code",
   "execution_count": null,
   "metadata": {},
   "outputs": [],
   "source": [
    "# no5の平均値\n",
    "count = 1\n",
    "sum_no5 = 0\n",
    "\n",
    "while count <= last_row:\n",
    "    no5_val = (win_numbers['win_num' + str(count)]['no5'])\n",
    "    sum_no5 = sum_no5 + no5_val\n",
    "    count += 1\n",
    "\n",
    "# output(result)\n",
    "#[debug] print(sum_no5)\n",
    "\n",
    "# no5の平均値の出力\n",
    "sum_no5 / last_row"
   ]
  },
  {
   "cell_type": "code",
   "execution_count": null,
   "metadata": {},
   "outputs": [],
   "source": [
    "# no6の平均値\n",
    "count = 1\n",
    "sum_no6 = 0\n",
    "\n",
    "while count <= last_row:\n",
    "    no6_val = (win_numbers['win_num' + str(count)]['no6'])\n",
    "    sum_no6 = sum_no6 + no6_val\n",
    "    count += 1\n",
    "\n",
    "# output(result)\n",
    "#[debug] print(sum_no6)\n",
    "\n",
    "# no6の平均値の出力\n",
    "sum_no6 / last_row"
   ]
  },
  {
   "cell_type": "code",
   "execution_count": null,
   "metadata": {},
   "outputs": [],
   "source": [
    "# no7の平均値\n",
    "count = 1\n",
    "sum_no7 = 0\n",
    "\n",
    "while count <= last_row:\n",
    "    no7_val = (win_numbers['win_num' + str(count)]['no7'])\n",
    "    sum_no7 = sum_no7 + no7_val\n",
    "    count += 1\n",
    "\n",
    "# output(result)\n",
    "#[debug] print(sum_no7)\n",
    "\n",
    "# no7の平均値の出力\n",
    "sum_no7 / last_row"
   ]
  },
  {
   "cell_type": "code",
   "execution_count": null,
   "metadata": {},
   "outputs": [],
   "source": [
    "# [important]:1-10の法則性を見つけ11の値が算出できるか。\n",
    "count = 1\n",
    "sum_no1 = 0\n",
    "\n",
    "while count <= 10:\n",
    "    no1_val = (win_numbers['win_num' + str(count)]['no1'])\n",
    "    sum_no1 = sum_no1 + no1_val\n",
    "    count += 1\n",
    "\n",
    "# 1-10の合計値\n",
    "print(sum_no1)\n",
    "\n",
    "# 1-10の平均値（result=5.4）\n",
    "print(sum_no1 / 10)\n",
    "\n",
    "# win_num11のwinningnumberは11であることを算出する。\n",
    "plt.title(\"loto7 is mine.\")           # タイトル\n",
    "\n",
    "# y\n",
    "plt.ylabel(\"winning number\")          # 縦のタイトル\n",
    "y = np.array([7,20,2,12,1,5,1,2,3,1]) # win_num1-10までのwinningnumvber\n",
    "\n",
    "# x\n",
    "plt.xlabel(\"times\")                   # 横のタイトル\n",
    "x = np.array([1,2,3,4,5,6,7,8,9,10])  # 回数\n",
    "\n",
    "# graph出力\n",
    "plt.plot(x, y)\n",
    "plt.show()"
   ]
  },
  {
   "cell_type": "code",
   "execution_count": 9,
   "metadata": {},
   "outputs": [],
   "source": [
    "# 1から37までの数字を7つ列挙する全ての組み合わせを生成するジェネレータ\n",
    "from itertools import combinations\n",
    "\n",
    "# combinations.txtの初期化\n",
    "with open(\"combinations.txt\", mode=\"r+\") as f:  # rwでファイルを開くこと\n",
    "    f.truncate(0)\n",
    "\n",
    "def generate_combinations():\n",
    "    numbers = list(range(1, 38))\n",
    "    for combo in combinations(numbers, 7):\n",
    "        yield combo\n",
    "\n",
    "# ファイルへの書き込み\n",
    "with open('combinations.txt', 'w') as file:\n",
    "    # ジェネレータを使用して組み合わせを順次取得し、ファイルに書き込む\n",
    "    combinations_generator = generate_combinations()\n",
    "    for combination in combinations_generator:\n",
    "        # 組み合わせを文字列に変換してファイルに書き込み\n",
    "        line = ', '.join(map(str, combination)) + '\\n'\n",
    "        file.write(line)"
   ]
  },
  {
   "cell_type": "code",
   "execution_count": null,
   "metadata": {},
   "outputs": [],
   "source": [
    "# combinations.txtからwn_list.txtを削除\n"
   ]
  }
 ],
 "metadata": {
  "kernelspec": {
   "display_name": "Python 3",
   "language": "python",
   "name": "python3"
  },
  "language_info": {
   "codemirror_mode": {
    "name": "ipython",
    "version": 3
   },
   "file_extension": ".py",
   "mimetype": "text/x-python",
   "name": "python",
   "nbconvert_exporter": "python",
   "pygments_lexer": "ipython3",
   "version": "3.10.11"
  },
  "orig_nbformat": 4
 },
 "nbformat": 4,
 "nbformat_minor": 2
}
