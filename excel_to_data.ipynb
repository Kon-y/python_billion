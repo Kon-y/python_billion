{
 "cells": [
  {
   "cell_type": "markdown",
   "metadata": {},
   "source": [
    "[loto7 winning number page](https://www.mizuhobank.co.jp/retail/takarakuji/check/loto/loto7/index.html)\n",
    "\n",
    "total_number = 全通りの数"
   ]
  },
  {
   "cell_type": "code",
   "execution_count": 1,
   "metadata": {
    "metadata": {}
   },
   "outputs": [],
   "source": [
    "# ライブラリのインポート\n",
    "import openpyxl\n",
    "import pandas as pd\n",
    "import matplotlib.pyplot as plt # データを効率的に操作するためのライブラリ\n",
    "import numpy as np              # グラフを簡単に書くライブラリ\n",
    "import os\n",
    "import difflib"
   ]
  },
  {
   "cell_type": "code",
   "execution_count": 2,
   "metadata": {
    "metadata": {}
   },
   "outputs": [
    {
     "name": "stderr",
     "output_type": "stream",
     "text": [
      "c:\\Users\\blue_\\AppData\\Local\\Programs\\Python\\Python310\\lib\\site-packages\\openpyxl\\worksheet\\_reader.py:329: UserWarning: Sparkline Group extension is not supported and will be removed\n",
      "  warn(msg)\n"
     ]
    }
   ],
   "source": [
    "# ファイル配置場所を変数に入れて読み取り専用で開く\n",
    "file_path = \"./Billion.xlsx\"\n",
    "wb = openpyxl.load_workbook(file_path, data_only=True)"
   ]
  },
  {
   "cell_type": "code",
   "execution_count": 3,
   "metadata": {
    "metadata": {}
   },
   "outputs": [],
   "source": [
    "# ロト7の総当選数(37C7 = 10295472.0)\n",
    "total_number = (37 * 36 * 35 * 34 * 33 * 32 * 31) / (7 * 6 * 5 * 4 * 3 * 2 * 1)\n",
    "#[debug] print(total_number)"
   ]
  },
  {
   "cell_type": "code",
   "execution_count": 4,
   "metadata": {
    "metadata": {}
   },
   "outputs": [
    {
     "name": "stdout",
     "output_type": "stream",
     "text": [
      "638\n"
     ]
    }
   ],
   "source": [
    "# 抽選回数の最終値を抽出する\n",
    "ws = wb[\"当選番号\"]\n",
    "last_row = ws.max_row\n",
    "#[debug] \n",
    "print(last_row)"
   ]
  },
  {
   "cell_type": "code",
   "execution_count": 5,
   "metadata": {
    "metadata": {}
   },
   "outputs": [],
   "source": [
    "# 抽選回数分の空データフレームを作成する\n",
    "# ref: 6.1 whileによる反復処理\n",
    "count = 1\n",
    "win_numbers = {}  # 辞書を初期化\n",
    "\n",
    "while count <= last_row:\n",
    "    win_num_name = \"win_num\" + str(count)\n",
    "    #[debug] print(win_num_name)\n",
    "\n",
    "    # cell番号を指定して値を要素に追加する\n",
    "    b_value = ws[\"B\" + str(count)].value\n",
    "    c_value = ws[\"C\" + str(count)].value\n",
    "    d_value = ws[\"D\" + str(count)].value\n",
    "    e_value = ws[\"E\" + str(count)].value\n",
    "    f_value = ws[\"F\" + str(count)].value\n",
    "    g_value = ws[\"G\" + str(count)].value\n",
    "    h_value = ws[\"H\" + str(count)].value\n",
    "    \n",
    "     # Noneの場合に備えて条件を追加\n",
    "    if None not in (b_value, c_value, d_value, e_value, f_value, g_value, h_value):\n",
    "        win_numbers[win_num_name] = {\n",
    "        'no1': int(b_value),\n",
    "        'no2': int(c_value),\n",
    "        'no3': int(d_value),\n",
    "        'no4': int(e_value),\n",
    "        'no5': int(f_value),\n",
    "        'no6': int(g_value),\n",
    "        'no7': int(h_value)\n",
    "        }\n",
    "    count += 1\n",
    "\n",
    "# 特定のwin_numのデータを出力\n",
    "#[debug] print(win_numbers['win_num2'])"
   ]
  },
  {
   "cell_type": "code",
   "execution_count": 6,
   "metadata": {
    "metadata": {}
   },
   "outputs": [],
   "source": [
    "# 重複をチェックするためのセット\n",
    "seen_numbers = set()\n",
    "\n",
    "# 重複があるかどうかのフラグ\n",
    "has_duplicates = False\n",
    "\n",
    "# 重複チェック処理\n",
    "for key, value in win_numbers.items():\n",
    "    numbers_tuple = tuple(value.values()) # key=win_num1 value={'no1': 7, 'no2': 10, 'no3': 12, 'no4': 17, 'no5': 23, 'no6': 28, 'no7': 34}\n",
    "    #[debug] print(numbers_tuple) # 出力 -> (7, 10, 12, 17, 23, 28, 34)    \n",
    "\n",
    "    if numbers_tuple in seen_numbers:\n",
    "        # 重複がある場合\n",
    "        has_duplicates = True\n",
    "        print(f\"重複したデータが見つかりました: {key} - {value}\")\n",
    "    else:\n",
    "        # 重複がない場合、セットに追加\n",
    "        seen_numbers.add(numbers_tuple)\n",
    "\n",
    "#if not has_duplicates:\n",
    "#   print(\"重複したデータはありません。\") # 重複したときだけメッセージ出したいためコメントアウト\n",
    "\n",
    "# wn_list.txtの初期化\n",
    "with open(\"wn_list.txt\", mode=\"r+\") as f:  # rwでファイルを開くこと\n",
    "    f.truncate(0)\n",
    "\n",
    "# wn_list.txt(当選番号のみのリスト)を作成\n",
    "with open('wn_list.txt', 'w') as f:\n",
    "    for wn_list in seen_numbers:\n",
    "        f.write(', '.join(map(str, wn_list)) + '\\n') # リストの各要素を文字列に変換し、カンマで区切って一つの文字列に結合している。\n",
    "\n",
    "#[debug] print(seen_numbers)"
   ]
  },
  {
   "cell_type": "code",
   "execution_count": 38,
   "metadata": {},
   "outputs": [
    {
     "name": "stdout",
     "output_type": "stream",
     "text": [
      "結果: 最初の数字が1だった行の、2番目の数字の出現頻度\n",
      "  数字「2」: 27回\n",
      "  数字「3」: 18回\n",
      "  数字「4」: 15回\n",
      "  数字「5」: 12回\n",
      "  数字「6」: 11回\n",
      "  数字「7」: 5回\n",
      "  数字「8」: 6回\n",
      "  数字「9」: 8回\n",
      "  数字「10」: 5回\n",
      "  数字「11」: 5回\n",
      "  数字「12」: 1回\n",
      "  数字「13」: 1回\n",
      "  数字「15」: 2回\n",
      "  数字「16」: 1回\n"
     ]
    }
   ],
   "source": [
    "import collections\n",
    "import sys\n",
    "def analyze_number_frequencies(file_path):\n",
    "    \"\"\"\n",
    "    ファイルを読み込み、最初の数字が1の場合の2番目の数字の頻度を調べる。\n",
    "    Args:\n",
    "        file_path (str): 読み込むデータファイルのパス。\n",
    "    \"\"\"\n",
    "    # 2番目の数字の出現回数を格納するためのCounterオブジェクト\n",
    "    second_number_counts = collections.Counter()\n",
    "    try:\n",
    "        with open(file_path, 'r', encoding='utf-8') as f:\n",
    "            for i, line in enumerate(f, 1):\n",
    "                # 空行はスキップ\n",
    "                if not line.strip():\n",
    "                    continue\n",
    "                # 行をカンマで分割し、各要素の前後の空白を削除\n",
    "                parts = [item.strip() for item in line.split(',')]\n",
    "                # 数字が7つ未満の場合は警告（処理は続行）\n",
    "                if len(parts) < 7:\n",
    "                    print(f\"警告: {i}行目の数字が7つ未満です: {line.strip()}\", file=sys.stderr)\n",
    "                # 少なくとも2つの数字があることを確認\n",
    "                if len(parts) < 2:\n",
    "                    continue\n",
    "                try:\n",
    "                    # 最初の2つの要素を整数に変換\n",
    "                    first_num = int(parts[0])\n",
    "                    second_num = int(parts[1])\n",
    "                except ValueError:\n",
    "                    # 数字に変換できない場合は、その行をスキップして警告\n",
    "                    print(f\"警告: {i}行目に数字以外のものが含まれています: {line.strip()}\", file=sys.stderr)\n",
    "                    continue\n",
    "                # 最初の数字が1の場合、2番目の数字を記録\n",
    "                if first_num == 1:\n",
    "                    second_number_counts[second_num] += 1\n",
    "    except FileNotFoundError:\n",
    "        print(f\"エラー: ファイル '{file_path}' が見つかりません。\", file=sys.stderr)\n",
    "        return\n",
    "    except Exception as e:\n",
    "        print(f\"予期せぬエラーが発生しました: {e}\", file=sys.stderr)\n",
    "        return\n",
    "    # 結果を出力\n",
    "    if not second_number_counts:\n",
    "        print(\"最初の数字が1で始まるデータ行が見つかりませんでした。\")\n",
    "    else:\n",
    "        print(\"結果: 最初の数字が1だった行の、2番目の数字の出現頻度\")\n",
    "        # 数字でソートして表示\n",
    "        for number, count in sorted(second_number_counts.items()):\n",
    "            print(f\"  数字「{number}」: {count}回\")\n",
    "if __name__ == '__main__':\n",
    "    # --- ここを編集してください ---\n",
    "    # 読み込むデータファイルの名前を指定\n",
    "    file_path = 'wn_list.txt'\n",
    "    # --------------------------\n",
    "    analyze_number_frequencies(file_path)"
   ]
  },
  {
   "cell_type": "code",
   "execution_count": 43,
   "metadata": {},
   "outputs": [
    {
     "name": "stdout",
     "output_type": "stream",
     "text": [
      "結果: 2番目の数字が2だった行の、3番目の数字の出現頻度\n",
      "  数字「3」: 1回\n",
      "  数字「4」: 5回\n",
      "  数字「5」: 2回\n",
      "  数字「6」: 3回\n",
      "  数字「8」: 3回\n",
      "  数字「9」: 2回\n",
      "  数字「11」: 3回\n",
      "  数字「12」: 3回\n",
      "  数字「15」: 1回\n",
      "  数字「17」: 2回\n",
      "  数字「18」: 1回\n",
      "  数字「22」: 1回\n"
     ]
    }
   ],
   "source": [
    "import collections\n",
    "import sys\n",
    "def analyze_number_frequencies(file_path):\n",
    "    \"\"\"\n",
    "    ファイルを読み込み、最初の数字が1の場合の2番目の数字の頻度を調べる。\n",
    "    Args:\n",
    "        file_path (str): 読み込むデータファイルのパス。\n",
    "    \"\"\"\n",
    "    # 2番目の数字の出現回数を格納するためのCounterオブジェクト\n",
    "    third_number_counts = collections.Counter()\n",
    "    try:\n",
    "        with open(file_path, 'r', encoding='utf-8') as f:\n",
    "            for i, line in enumerate(f, 1):\n",
    "                # 空行はスキップ\n",
    "                if not line.strip():\n",
    "                    continue\n",
    "                # 行をカンマで分割し、各要素の前後の空白を削除\n",
    "                parts = [item.strip() for item in line.split(',')]\n",
    "                # 数字が7つ未満の場合は警告（処理は続行）\n",
    "                if len(parts) < 7:\n",
    "                    print(f\"警告: {i}行目の数字が7つ未満です: {line.strip()}\", file=sys.stderr)\n",
    "                # 少なくとも3つの数字があることを確認\n",
    "                if len(parts) < 3:\n",
    "                    continue\n",
    "                try:\n",
    "                    # 2,3番目の要素を整数に変換\n",
    "                    second_num = int(parts[1])\n",
    "                    third_num = int(parts[2])\n",
    "                except ValueError:\n",
    "                    # 数字に変換できない場合は、その行をスキップして警告\n",
    "                    print(f\"警告: {i}行目に数字以外のものが含まれています: {line.strip()}\", file=sys.stderr)\n",
    "                    continue\n",
    "                # 2番目の数字が2の場合、3番目の数字を記録\n",
    "                if second_num == 2:\n",
    "                    third_number_counts[third_num] += 1\n",
    "    except FileNotFoundError:\n",
    "        print(f\"エラー: ファイル '{file_path}' が見つかりません。\", file=sys.stderr)\n",
    "        return\n",
    "    except Exception as e:\n",
    "        print(f\"予期せぬエラーが発生しました: {e}\", file=sys.stderr)\n",
    "        return\n",
    "    # 結果を出力\n",
    "    if not third_number_counts:\n",
    "        print(\"2番目の数字が2で始まるデータ行が見つかりませんでした。\")\n",
    "    else:\n",
    "        print(\"結果: 2番目の数字が2だった行の、3番目の数字の出現頻度\")\n",
    "        # 数字でソートして表示\n",
    "        for number, count in sorted(third_number_counts.items()):\n",
    "            print(f\"  数字「{number}」: {count}回\")\n",
    "if __name__ == '__main__':\n",
    "    # --- ここを編集してください ---\n",
    "    # 読み込むデータファイルの名前を指定\n",
    "    file_path = 'wn_list.txt'\n",
    "    # --------------------------\n",
    "    analyze_number_frequencies(file_path)"
   ]
  },
  {
   "cell_type": "code",
   "execution_count": 7,
   "metadata": {
    "metadata": {}
   },
   "outputs": [
    {
     "name": "stdout",
     "output_type": "stream",
     "text": [
      "10294834.0\n"
     ]
    }
   ],
   "source": [
    "# 重複してなかったらtotal_numberから回数分引く。\n",
    "total_number_latest = total_number - last_row\n",
    "#[debug] \n",
    "print(total_number_latest)"
   ]
  },
  {
   "cell_type": "code",
   "execution_count": 8,
   "metadata": {
    "metadata": {}
   },
   "outputs": [],
   "source": [
    "# 全no1の合計値\n",
    "count = 1\n",
    "sum_no1 = 0\n",
    "\n",
    "while count <= last_row:\n",
    "    no1_val = (win_numbers['win_num' + str(count)]['no1'])\n",
    "    sum_no1 = sum_no1 + no1_val\n",
    "    count += 1\n",
    "\n",
    "# output(result)\n",
    "#[debug] print(sum_no1)\n",
    "\n",
    "# no1の平均値の出力\n",
    "avg_no1 = None\n",
    "globals()['avg_no1'] = sum_no1 / last_row\n",
    "#[debug] \n",
    "#[debug] print(avg_no1)"
   ]
  },
  {
   "cell_type": "code",
   "execution_count": 9,
   "metadata": {
    "metadata": {}
   },
   "outputs": [],
   "source": [
    "# no2の平均値\n",
    "count = 1\n",
    "sum_no2 = 0\n",
    "\n",
    "while count <= last_row:\n",
    "    no2_val = (win_numbers['win_num' + str(count)]['no2'])\n",
    "    sum_no2 = sum_no2 + no2_val\n",
    "    count += 1\n",
    "\n",
    "# output(result)\n",
    "#[debug] print(sum_no2)\n",
    "\n",
    "# no2の平均値の出力\n",
    "avg_no2 = None\n",
    "globals()['avg_no2'] = sum_no2 / last_row\n",
    "#[debug] print(avg_no2)"
   ]
  },
  {
   "cell_type": "code",
   "execution_count": 10,
   "metadata": {
    "metadata": {}
   },
   "outputs": [],
   "source": [
    "# no3の平均値\n",
    "count = 1\n",
    "sum_no3 = 0\n",
    "\n",
    "while count <= last_row:\n",
    "    no3_val = (win_numbers['win_num' + str(count)]['no3'])\n",
    "    sum_no3 = sum_no3 + no3_val\n",
    "    count += 1\n",
    "\n",
    "# output(result)\n",
    "#[debug] print(sum_no3)\n",
    "\n",
    "# no3の平均値の出力\n",
    "avg_no3 = None\n",
    "globals()['avg_no3'] = sum_no3 / last_row\n",
    "#[debug] print(avg_no3)"
   ]
  },
  {
   "cell_type": "code",
   "execution_count": 11,
   "metadata": {
    "metadata": {},
    "tags": []
   },
   "outputs": [],
   "source": [
    "# no4の平均値\n",
    "count = 1\n",
    "sum_no4 = 0\n",
    "\n",
    "while count <= last_row:\n",
    "    no4_val = (win_numbers['win_num' + str(count)]['no4'])\n",
    "    sum_no4 = sum_no4 + no4_val\n",
    "    count += 1\n",
    "\n",
    "# output(result)\n",
    "#[debug] print(sum_no4)\n",
    "\n",
    "# no4の平均値の出力\n",
    "avg_no4 = None\n",
    "globals()['avg_no4'] = sum_no4 / last_row\n",
    "#[debug] print(avg_no4)"
   ]
  },
  {
   "cell_type": "code",
   "execution_count": 12,
   "metadata": {
    "metadata": {}
   },
   "outputs": [],
   "source": [
    "# no5の平均値\n",
    "count = 1\n",
    "sum_no5 = 0\n",
    "\n",
    "while count <= last_row:\n",
    "    no5_val = (win_numbers['win_num' + str(count)]['no5'])\n",
    "    sum_no5 = sum_no5 + no5_val\n",
    "    count += 1\n",
    "\n",
    "# output(result)\n",
    "#[debug] print(sum_no5)\n",
    "\n",
    "# no5の平均値の出力\n",
    "avg_no5 = None\n",
    "globals()['avg_no5'] = sum_no5 / last_row\n",
    "#[debug] print(avg_no5)"
   ]
  },
  {
   "cell_type": "code",
   "execution_count": 13,
   "metadata": {
    "metadata": {}
   },
   "outputs": [],
   "source": [
    "# no6の平均値\n",
    "count = 1\n",
    "sum_no6 = 0\n",
    "\n",
    "while count <= last_row:\n",
    "    no6_val = (win_numbers['win_num' + str(count)]['no6'])\n",
    "    sum_no6 = sum_no6 + no6_val\n",
    "    count += 1\n",
    "\n",
    "# output(result)\n",
    "#[debug] print(sum_no6)\n",
    "\n",
    "# no6の平均値の出力\n",
    "avg_no6 = None\n",
    "globals()['avg_no6'] = sum_no6 / last_row\n",
    "#[debug] print(avg_no6)"
   ]
  },
  {
   "cell_type": "code",
   "execution_count": 14,
   "metadata": {
    "metadata": {}
   },
   "outputs": [],
   "source": [
    "# no7の平均値\n",
    "count = 1\n",
    "sum_no7 = 0\n",
    "\n",
    "while count <= last_row:\n",
    "    no7_val = (win_numbers['win_num' + str(count)]['no7'])\n",
    "    sum_no7 = sum_no7 + no7_val\n",
    "    count += 1\n",
    "\n",
    "# output(result)\n",
    "#[debug] print(sum_no7)\n",
    "\n",
    "# no7の平均値の出力\n",
    "avg_no7 = None\n",
    "globals()['avg_no7'] = sum_no7 / last_row\n",
    "#[debug] print(avg_no7)"
   ]
  },
  {
   "cell_type": "code",
   "execution_count": 15,
   "metadata": {
    "metadata": {}
   },
   "outputs": [
    {
     "name": "stdout",
     "output_type": "stream",
     "text": [
      "5.054858934169279\n",
      "9.653605015673982\n",
      "14.296238244514107\n",
      "18.982758620689655\n",
      "23.802507836990596\n",
      "28.70219435736677\n",
      "33.327586206896555\n"
     ]
    }
   ],
   "source": [
    "# 全Noのavgを出力する。\n",
    "count = 1\n",
    "while count <= 7:\n",
    "    no_name = 'avg_no' + str(count)\n",
    "    print(f'{globals()[no_name]}')\n",
    "    count += 1"
   ]
  },
  {
   "cell_type": "code",
   "execution_count": 16,
   "metadata": {
    "metadata": {}
   },
   "outputs": [
    {
     "name": "stdout",
     "output_type": "stream",
     "text": [
      "第1オクテットの最頻値は1で、117回\n",
      "第2オクテットの最頻値は6で、56回\n",
      "第3オクテットの最頻値は10で、48回\n",
      "第4オクテットの最頻値は18で、48回\n",
      "第5オクテットの最頻値は23で、48回\n",
      "第6オクテットの最頻値は32で、61回\n",
      "第7オクテットの最頻値は36で、111回\n"
     ]
    }
   ],
   "source": [
    "# [important]:第1-10回までの法則性を見つけ第11回の値が算出できるか。\n",
    "#count = 1\n",
    "#sum_no1 = 0\n",
    "#\n",
    "#while count <= 10:\n",
    "#    no1_val = (win_numbers['win_num' + str(count)]['no1'])\n",
    "#    sum_no1 = sum_no1 + no1_val\n",
    "#    count += 1\n",
    "#\n",
    "# 1-10の合計値\n",
    "#print(sum_no1)\n",
    "#\n",
    "# 1-10の平均値（result=5.4）\n",
    "#print(sum_no1 / 10)\n",
    "\n",
    "# 第1オクテットだけを出力させたい場合\n",
    "## 最頻値（Mode）: 全n回のデータセット内で最も頻繁に出現する値\n",
    "#first_values = [taple[0] for taple in seen_numbers]\n",
    "\n",
    "# 第1~7オクテットまでをbulk出力\n",
    "count = 0\n",
    "while count <= 6:\n",
    "    first_values = [taple[count] for taple in seen_numbers]\n",
    "    \n",
    "    ## 辞書内包表記を使って1個目の数値が何回現れたのかを数える。\n",
    "    first_values_count = {first: first_values.count(first) for first in first_values }\n",
    "\n",
    "    ## 最頻値の数(valueが大きいkey)を出力させる。\n",
    "    max_key = max(first_values_count, key=first_values_count.get)\n",
    "    max_value = first_values_count[max_key]\n",
    "    print(f\"第{count + 1}オクテットの最頻値は{max_key}で、{max_value}回\")\n",
    "\n",
    "    ## [debug]昇順で全出力させる。\n",
    "    #for key in sorted(first_values_count.keys()): # sorted()関数でキーを昇順にソート\n",
    "    #    print(f\"{key}: {first_values_count[key]}\") # ソートされたキーを使ってループを回し、各キーと対応する値を昇順で出力\n",
    " \n",
    "    count += 1\n",
    "\n",
    "# 中央値（Median）: データを昇順に並べたときの中央値。データが偶数個の場合は中央の2つの値の平均を取る\n",
    "\n",
    "# win_num11のwinningnumberは11であることを算出する。\n",
    "#plt.title(\"loto7 is mine.\")           # タイトル\n",
    "#\n",
    "# y\n",
    "#plt.ylabel(\"winning number\")          # 縦のタイトル\n",
    "#y = np.array([7,20,2,12,1,5,1,2,3,1]) # win_num1-10までのwinningnumvber\n",
    "#\n",
    "# x\n",
    "#plt.xlabel(\"times\")                   # 横のタイトル\n",
    "#x = np.array([1,2,3,4,5,6,7,8,9,10])  # 回数\n",
    "#\n",
    "# graph出力\n",
    "#plt.plot(x, y)\n",
    "#plt.show()"
   ]
  },
  {
   "cell_type": "code",
   "execution_count": 17,
   "metadata": {
    "metadata": {}
   },
   "outputs": [],
   "source": [
    "# 1から37までの数字を7つ列挙する全ての組み合わせを生成するジェネレータ\n",
    "from itertools import combinations\n",
    "\n",
    "# combinations.txtの初期化\n",
    "with open(\"combinations.txt\", mode=\"r+\") as f:  # rwでファイルを開くこと\n",
    "    f.truncate(0)\n",
    "\n",
    "def generate_combinations():\n",
    "    numbers = list(range(1, 38))\n",
    "    for combo in combinations(numbers, 7):\n",
    "        yield combo\n",
    "\n",
    "# ファイルへの書き込み\n",
    "with open('combinations.txt', 'w') as file:\n",
    "    # ジェネレータを使用して組み合わせを順次取得し、ファイルに書き込む\n",
    "    combinations_generator = generate_combinations()\n",
    "    for combination in combinations_generator:\n",
    "        # 組み合わせを文字列に変換してファイルに書き込み\n",
    "        line = ', '.join(map(str, combination)) + '\\n'\n",
    "        file.write(line)"
   ]
  },
  {
   "cell_type": "code",
   "execution_count": 18,
   "metadata": {},
   "outputs": [],
   "source": [
    "# 各noで出現していない数字を抽出し変数に代入する\n",
    "def extract_missing_numbers(filename):\n",
    "    # 1~37までの数字のセット\n",
    "    all_numbers = set(range(1, 38))\n",
    "    \n",
    "    # 各カラムで出現した数字を保持するリスト\n",
    "    columns = [set() for _ in range(7)]\n",
    "    \n",
    "    # ファイルを読み込む\n",
    "    with open(filename, 'r') as f:\n",
    "        lines = f.readlines()\n",
    "    \n",
    "    # 各行を処理\n",
    "    for line in lines:\n",
    "        numbers = list(map(int, line.strip().split(',')))\n",
    "        for i, number in enumerate(numbers):\n",
    "            columns[i].add(number)\n",
    "    \n",
    "    # 各カラムで出現していない数字を抽出\n",
    "    missing_numbers = [all_numbers - column for column in columns]\n",
    "    \n",
    "    return missing_numbers\n",
    "\n",
    "# 使用例\n",
    "with open('missing_numbers.txt', 'w') as file:\n",
    "  filename = 'wn_list.txt'\n",
    "  missing_numbers = extract_missing_numbers(filename)\n",
    "  for i, missing in enumerate(missing_numbers):\n",
    "      mis_no = (f\"Column {i+1} missing numbers: {sorted(missing)}\" + '\\n')\n",
    "      file.write(mis_no)"
   ]
  },
  {
   "cell_type": "code",
   "execution_count": 19,
   "metadata": {},
   "outputs": [],
   "source": [
    "# combinations.txtからwn_list.txtに記載されている当選番号を削除\n",
    "# （wn_list.txtに存在する7つの値がcombinations.txtに存在いない場合にのみその行をresult.txtに書き込む。）\n",
    "try:\n",
    "    # ファイルを開く\n",
    "    with open('./combinations.txt') as open_combination, open('./wn_list.txt') as open_wn_list:\n",
    "        # ファイルの内容をリストとして取得\n",
    "        combination_lines = open_combination.readlines()\n",
    "        wn_list_lines = open_wn_list.readlines()\n",
    "\n",
    "    # wn_list.txtの内容をセットに変換\n",
    "    wn_set = set(wn_list_lines)\n",
    "\n",
    "    # 結果をresult.txtに書き込む\n",
    "    with open('result.txt', 'w') as result_file:\n",
    "        for line in combination_lines:\n",
    "            if line not in wn_set:\n",
    "                result_file.write(line)\n",
    "\n",
    "except FileNotFoundError as e:\n",
    "    print(f\"エラー: {e.filename} が見つかりませんでした。\")\n",
    "except Exception as e:\n",
    "    print(f\"エラーが発生しました: {str(e)}\")"
   ]
  },
  {
   "cell_type": "code",
   "execution_count": 20,
   "metadata": {},
   "outputs": [
    {
     "name": "stdout",
     "output_type": "stream",
     "text": [
      "10294834\n"
     ]
    }
   ],
   "source": [
    "# 何行残っているかを調べる。\n",
    "# ファイル名を指定する\n",
    "filename = \"result.txt\"\n",
    "\n",
    "# 行数をカウントする変数\n",
    "line_count = 0\n",
    "\n",
    "# ファイルを開いて行数をカウントする\n",
    "with open(filename, \"r\") as file:\n",
    "    for line in file:\n",
    "        line_count += 1  # 各行をカウント\n",
    "\n",
    "# 行数を表示する\n",
    "print(line_count)"
   ]
  },
  {
   "cell_type": "code",
   "execution_count": 21,
   "metadata": {},
   "outputs": [
    {
     "name": "stdout",
     "output_type": "stream",
     "text": [
      "31\n"
     ]
    }
   ],
   "source": [
    "def is_sequential(numbers):\n",
    "    # リストの7つの数字が連続しているかどうかを確認します。各数字が次の数字の1つ前かどうかを調べます。\n",
    "    return all(numbers[i] + 1 == numbers[i + 1] for i in range(len(numbers) - 1))\n",
    "\n",
    "def filter_seven_digit_sequences(input_file, output_file):\n",
    "\n",
    "    # ここで重複カウント変数を初期化します\n",
    "    duplicate_count = 0  \n",
    "    with open(input_file, 'r') as infile, open(output_file, 'w') as outfile:\n",
    "        for line in infile:\n",
    "\n",
    "            # カンマやスペースで区切られた文字列から整数のリストを作成\n",
    "            numbers = list(map(int, line.replace(',', '').strip().split()))\n",
    "            \n",
    "            # Check if there are exactly 7 numbers and they are consecutive            \n",
    "            if len(numbers) == 7 and is_sequential(numbers):\n",
    "                \n",
    "                # 連続する行をカウント\n",
    "                duplicate_count += 1\n",
    "                \n",
    "                # 各行が7つの数字から成り、かつそれらが連続している場合はスキップします。\n",
    "                continue\n",
    "            else:\n",
    "                outfile.write(line)  # Write to output file if it doesn't match the condition\n",
    "\n",
    "    # 重複カウントを戻り値として返す\n",
    "    return duplicate_count  \n",
    "\n",
    "# Usage\n",
    "duplicate_count = filter_seven_digit_sequences('result.txt', 'filtered_result.txt')\n",
    "print(duplicate_count)  # 修正された変数名を使用\n"
   ]
  },
  {
   "cell_type": "code",
   "execution_count": 22,
   "metadata": {},
   "outputs": [
    {
     "name": "stdout",
     "output_type": "stream",
     "text": [
      "169088 行が削除されました。\n"
     ]
    }
   ],
   "source": [
    "# 4つ連続した数字は削除する。\n",
    "def load_combinations(filename):\n",
    "    # ファイルから組み合わせを読み込む\n",
    "    with open(filename, 'r') as f:\n",
    "        lines = f.readlines()\n",
    "    \n",
    "    # 有効な組み合わせを保存するリスト\n",
    "    valid_combinations = []\n",
    "    deleted_count = 0\n",
    "    \n",
    "    for line in lines:\n",
    "        # カンマ区切りで数値リストを取得し、整数に変換\n",
    "        numbers = list(map(int, line.strip().split(',')))\n",
    "        \n",
    "        # 連続する数が4つ以上の組み合わせか確認する\n",
    "        has_consecutive_sequence = False\n",
    "        for i in range(len(numbers) - 3):\n",
    "            if numbers[i] + 1 == numbers[i + 1] and \\\n",
    "               numbers[i + 1] + 1 == numbers[i + 2] and \\\n",
    "               numbers[i + 2] + 1 == numbers[i + 3]:\n",
    "                has_consecutive_sequence = True\n",
    "                deleted_count += 1\n",
    "                break\n",
    "        \n",
    "        # 連続する数が4つ以上でない組み合わせのみ保存\n",
    "        if not has_consecutive_sequence:\n",
    "            valid_combinations.append(line.strip())\n",
    "\n",
    "    # 有効な組み合わせのみをファイルに書き込む（元のファイルを上書き）\n",
    "    with open(filename, 'w') as f:\n",
    "        for combo in valid_combinations:\n",
    "            f.write(combo + '\\n')\n",
    "\n",
    "    # 削除された行数を表示する。\n",
    "    print(f\"{deleted_count} 行が削除されました。\")\n",
    "\n",
    "load_combinations('filtered_result.txt')"
   ]
  },
  {
   "cell_type": "code",
   "execution_count": 23,
   "metadata": {},
   "outputs": [
    {
     "name": "stdout",
     "output_type": "stream",
     "text": [
      "10125715\n"
     ]
    }
   ],
   "source": [
    "# 何行残っているかを調べる。\n",
    "# ファイル名を指定する\n",
    "filename = \"filtered_result.txt\"\n",
    "\n",
    "# 行数をカウントする変数\n",
    "line_count = 0\n",
    "\n",
    "# ファイルを開いて行数をカウントする\n",
    "with open(filename, \"r\") as file:\n",
    "    for line in file:\n",
    "        line_count += 1  # 各行をカウント\n",
    "\n",
    "# 行数を表示する\n",
    "print(line_count)"
   ]
  },
  {
   "cell_type": "code",
   "execution_count": 24,
   "metadata": {},
   "outputs": [
    {
     "name": "stdout",
     "output_type": "stream",
     "text": [
      "9240 行が削除されました。\n"
     ]
    }
   ],
   "source": [
    "# 1個目が22以上の数字で始まるものを削除する。\n",
    "# ファイル名を指定する。\n",
    "filename = \"filtered_result.txt\"\n",
    "\n",
    "# 削除対象でない行を保持するリスト\n",
    "remaining_lines = []\n",
    "deleted_count = 0  # 削除した行数をカウントする変数\n",
    "\n",
    "# ファイルを開いて内容を読み込む\n",
    "with open(filename, \"r\") as file:\n",
    "    for line in file:\n",
    "        # 各行の数字をスペースで区切りリストにする\n",
    "        numbers = line.strip().split(\",\")\n",
    "\n",
    "        # 1番目の数字が存在するかチェックし、条件に合うかを確認\n",
    "        if len(numbers) > 0:\n",
    "            first_number = numbers[0].strip() \n",
    "            # 1番目の数字が\"22以上\" の数字で始まるものを削除\n",
    "            # startswithは文字列が特定の文字や文字列で始まっているかどうかを確認する時に使用する。\n",
    "            # \"30\"の時にstartswithを使用すると「3で始まるすべての数字」（例: 30, 31, 300 など）に一致してしまう。\n",
    "            if first_number.isdigit() and int(first_number) >= 22:\n",
    "                deleted_count += 1  # 条件に合う行をカウント\n",
    "                continue\n",
    "\n",
    "        # 条件に合わない行を保持\n",
    "        remaining_lines.append(line)\n",
    "\n",
    "# ファイルを上書きして、残りの行のみを書き込む\n",
    "with open(filename, \"w\") as file:\n",
    "    file.writelines(remaining_lines)\n",
    "\n",
    "print(f\"{deleted_count} 行が削除されました。\")"
   ]
  },
  {
   "cell_type": "code",
   "execution_count": 25,
   "metadata": {},
   "outputs": [
    {
     "name": "stdout",
     "output_type": "stream",
     "text": [
      "10116475\n"
     ]
    }
   ],
   "source": [
    "# 何行残っているかを調べる。\n",
    "# ファイル名を指定する\n",
    "filename = \"filtered_result.txt\"\n",
    "\n",
    "# 行数をカウントする変数\n",
    "line_count = 0\n",
    "\n",
    "# ファイルを開いて行数をカウントする\n",
    "with open(filename, \"r\") as file:\n",
    "    for line in file:\n",
    "        line_count += 1  # 各行をカウント\n",
    "\n",
    "# 行数を表示する\n",
    "print(line_count)"
   ]
  },
  {
   "cell_type": "code",
   "execution_count": 26,
   "metadata": {},
   "outputs": [
    {
     "name": "stdout",
     "output_type": "stream",
     "text": [
      "4120489 行が削除されました。\n"
     ]
    }
   ],
   "source": [
    "# 2個目が1または27以上の数字で始まるものを削除する。\n",
    "# ファイル名を指定する。\n",
    "filename = \"filtered_result.txt\"\n",
    "\n",
    "# 削除対象でない行を保持するリスト\n",
    "remaining_lines = []\n",
    "deleted_count = 0  # 削除した行数をカウントする変数\n",
    "\n",
    "# ファイルを開いて内容を読み込む\n",
    "with open(filename, \"r\") as file:\n",
    "    for line in file:\n",
    "        # 各行の数字をスペースで区切りリストにする\n",
    "        numbers = line.strip().split(\",\")\n",
    "\n",
    "        # 2番目の数字が存在するかチェックし、条件に合うかを確認\n",
    "        if len(numbers) > 1:\n",
    "            second_number = numbers[1].strip() \n",
    "            # 2番目の数字が \"1\" で始まる、または \"27\" 以上の数字で始まる場合、削除する。\n",
    "            if second_number.startswith(\"1\") or (second_number.isdigit() and int(second_number) >= 27):\n",
    "                deleted_count += 1  # 条件に合う行をカウント\n",
    "                continue\n",
    "\n",
    "        # 条件に合わない行を保持\n",
    "        remaining_lines.append(line)\n",
    "\n",
    "# ファイルを上書きして、残りの行のみを書き込む\n",
    "with open(filename, \"w\") as file:\n",
    "    file.writelines(remaining_lines)\n",
    "\n",
    "print(f\"{deleted_count} 行が削除されました。\")"
   ]
  },
  {
   "cell_type": "code",
   "execution_count": 27,
   "metadata": {},
   "outputs": [
    {
     "name": "stdout",
     "output_type": "stream",
     "text": [
      "5995986\n"
     ]
    }
   ],
   "source": [
    "# 何行残っているかを調べる。\n",
    "# ファイル名を指定する\n",
    "filename = \"filtered_result.txt\"\n",
    "\n",
    "# 行数をカウントする変数\n",
    "line_count = 0\n",
    "\n",
    "# ファイルを開いて行数をカウントする\n",
    "with open(filename, \"r\") as file:\n",
    "    for line in file:\n",
    "        line_count += 1  # 各行をカウント\n",
    "\n",
    "# 行数を表示する\n",
    "print(line_count)"
   ]
  },
  {
   "cell_type": "code",
   "execution_count": 28,
   "metadata": {},
   "outputs": [
    {
     "name": "stdout",
     "output_type": "stream",
     "text": [
      "3851839 行が削除されました。\n"
     ]
    }
   ],
   "source": [
    "# 3個目が1-2または30か32以上の数字で始まるものを削除する。\n",
    "# ファイル名を指定する。\n",
    "filename = \"filtered_result.txt\"\n",
    "\n",
    "# 削除対象でない行を保持するリスト\n",
    "remaining_lines = []\n",
    "deleted_count = 0  # 削除した行数をカウントする変数\n",
    "\n",
    "# ファイルを開いて内容を読み込む\n",
    "with open(filename, \"r\") as file:\n",
    "    for line in file:\n",
    "        # 各行の数字をスペースで区切りリストにする\n",
    "        numbers = line.strip().split(\",\")\n",
    "\n",
    "        # 3番目の数字が存在するかチェックし、条件に合うかを確認\n",
    "        if len(numbers) > 2:\n",
    "            third_number = numbers[2].strip() \n",
    "            # 3番目の数字が \"1\" または \"2\" で始まる、\"30\" または \"32以上\" の場合、削除する。\n",
    "            # startswithは文字列が特定の文字や文字列で始まっているかどうかを確認する時に使用する。\n",
    "            # \"30\"の時にstartswithを使用すると「3で始まるすべての数字」（例: 30, 31, 300 など）に一致してしまう。\n",
    "            if (third_number.startswith(\"1\") or \n",
    "                third_number.startswith(\"2\") or \n",
    "                third_number == \"30\" or \n",
    "                (third_number.isdigit() and int(third_number) >= 32)):\n",
    "                deleted_count += 1  # 条件に合う行をカウント\n",
    "                continue\n",
    "\n",
    "        # 条件に合わない行を保持\n",
    "        remaining_lines.append(line)\n",
    "\n",
    "# ファイルを上書きして、残りの行のみを書き込む\n",
    "with open(filename, \"w\") as file:\n",
    "    file.writelines(remaining_lines)\n",
    "\n",
    "print(f\"{deleted_count} 行が削除されました。\")\n"
   ]
  },
  {
   "cell_type": "code",
   "execution_count": 29,
   "metadata": {},
   "outputs": [
    {
     "name": "stdout",
     "output_type": "stream",
     "text": [
      "2144147\n"
     ]
    }
   ],
   "source": [
    "# 何行残っているかを調べる。\n",
    "# ファイル名を指定する\n",
    "filename = \"filtered_result.txt\"\n",
    "\n",
    "# 行数をカウントする変数\n",
    "line_count = 0\n",
    "\n",
    "# ファイルを開いて行数をカウントする\n",
    "with open(filename, \"r\") as file:\n",
    "    for line in file:\n",
    "        line_count += 1  # 各行をカウント\n",
    "\n",
    "# 行数を表示する\n",
    "print(line_count)"
   ]
  },
  {
   "cell_type": "code",
   "execution_count": 30,
   "metadata": {},
   "outputs": [
    {
     "name": "stdout",
     "output_type": "stream",
     "text": [
      "1714123 行が削除されました。\n"
     ]
    }
   ],
   "source": [
    "# 4個目が1-4、35以上の数字で始まるものを削除する。\n",
    "# ファイル名を指定する。\n",
    "filename = \"filtered_result.txt\"\n",
    "\n",
    "# 削除対象でない行を保持するリスト\n",
    "remaining_lines = []\n",
    "deleted_count = 0  # 削除した行数をカウントする変数\n",
    "\n",
    "# ファイルを開いて内容を読み込む\n",
    "with open(filename, \"r\") as file:\n",
    "    for line in file:\n",
    "        # 各行の数字をスペースで区切りリストにする\n",
    "        numbers = line.strip().split(\",\")\n",
    "\n",
    "        # 4番目の数字が存在するかチェックし、条件に合うかを確認\n",
    "        if len(numbers) > 3:\n",
    "            four_number = numbers[3].strip() \n",
    "            # 4番目の数字が \"1-4\" で始まる、または\"35以上\" の場合、削除する。\n",
    "            if (four_number.startswith(\"1\") or\n",
    "                four_number.startswith(\"2\") or\n",
    "                four_number.startswith(\"3\") or\n",
    "                four_number.startswith(\"4\") or\n",
    "                (four_number.isdigit() and int(four_number) >= 35)):\n",
    "                deleted_count += 1  # 条件に合う行をカウント\n",
    "                continue\n",
    "\n",
    "        # 条件に合わない行を保持\n",
    "        remaining_lines.append(line)\n",
    "\n",
    "# ファイルを上書きして、残りの行のみを書き込む\n",
    "with open(filename, \"w\") as file:\n",
    "    file.writelines(remaining_lines)\n",
    "\n",
    "print(f\"{deleted_count} 行が削除されました。\")"
   ]
  },
  {
   "cell_type": "code",
   "execution_count": 31,
   "metadata": {},
   "outputs": [
    {
     "name": "stdout",
     "output_type": "stream",
     "text": [
      "407258 行が削除されました。\n"
     ]
    }
   ],
   "source": [
    "# 5個目が1-8、36以上の数字で始まるものを削除する。\n",
    "# ファイル名を指定する。\n",
    "filename = \"filtered_result.txt\"\n",
    "\n",
    "# 削除対象でない行を保持するリスト\n",
    "remaining_lines = []\n",
    "deleted_count = 0  # 削除した行数をカウントする変数\n",
    "\n",
    "# ファイルを開いて内容を読み込む\n",
    "with open(filename, \"r\") as file:\n",
    "    for line in file:\n",
    "        # 各行の数字をスペースで区切りリストにする\n",
    "        numbers = line.strip().split(\",\")\n",
    "\n",
    "        # 5番目の数字が存在するかチェックし、条件に合うかを確認\n",
    "        if len(numbers) > 4:\n",
    "            five_number = numbers[4].strip() \n",
    "            # 5番目の数字が \"1-8\" で始まる、または\"36以上\" の場合、削除する。\n",
    "            if (five_number.startswith((\"1\", \"2\", \"3\", \"4\", \"5\", \"6\", \"7\", \"8\")) or\n",
    "                (five_number.isdigit() and int(five_number) >= 36)):\n",
    "                deleted_count += 1  # 条件に合う行をカウント\n",
    "                continue\n",
    "\n",
    "        # 条件に合わない行を保持\n",
    "        remaining_lines.append(line)\n",
    "\n",
    "# ファイルを上書きして、残りの行のみを書き込む\n",
    "with open(filename, \"w\") as file:\n",
    "    file.writelines(remaining_lines)\n",
    "\n",
    "print(f\"{deleted_count} 行が削除されました。\")"
   ]
  },
  {
   "cell_type": "code",
   "execution_count": 32,
   "metadata": {},
   "outputs": [
    {
     "name": "stdout",
     "output_type": "stream",
     "text": [
      "22766\n"
     ]
    }
   ],
   "source": [
    "# 何行残っているかを調べる。\n",
    "# ファイル名を指定する\n",
    "filename = \"filtered_result.txt\"\n",
    "\n",
    "# 行数をカウントする変数\n",
    "line_count = 0\n",
    "\n",
    "# ファイルを開いて行数をカウントする\n",
    "with open(filename, \"r\") as file:\n",
    "    for line in file:\n",
    "        line_count += 1  # 各行をカウント\n",
    "\n",
    "# 行数を表示する\n",
    "print(line_count)"
   ]
  },
  {
   "cell_type": "code",
   "execution_count": 33,
   "metadata": {},
   "outputs": [
    {
     "name": "stdout",
     "output_type": "stream",
     "text": [
      "9958 行が削除されました。\n"
     ]
    }
   ],
   "source": [
    "# 6個目が1-16、37の数字で始まるものを削除する。\n",
    "# ファイル名を指定する。\n",
    "filename = \"filtered_result.txt\"\n",
    "\n",
    "# 削除対象でない行を保持するリスト\n",
    "remaining_lines = []\n",
    "deleted_count = 0  # 削除した行数をカウントする変数\n",
    "\n",
    "# ファイルを開いて内容を読み込む\n",
    "with open(filename, \"r\") as file:\n",
    "    for line in file:\n",
    "        # 各行の数字をカンマで区切りリストにする\n",
    "        numbers = line.strip().split(\",\")  # カンマで分割\n",
    "\n",
    "        # 6番目の数字が存在するかチェックし、条件に合うかを確認\n",
    "        if len(numbers) > 5:\n",
    "            six_number = numbers[5].strip()\n",
    "            # 6番目の数字が1から16または37以上の場合\n",
    "            if (six_number.isdigit() and (1 <= int(six_number) <= 16 or int(six_number) >= 37)):\n",
    "                deleted_count += 1  # 条件に合う行をカウント\n",
    "                continue\n",
    "\n",
    "        # 条件に合わない行を保持\n",
    "        remaining_lines.append(line)\n",
    "\n",
    "# ファイルを上書きして、残りの行のみを書き込む\n",
    "with open(filename, \"w\") as file:\n",
    "    file.writelines(remaining_lines)\n",
    "\n",
    "print(f\"{deleted_count} 行が削除されました。\")"
   ]
  },
  {
   "cell_type": "code",
   "execution_count": 34,
   "metadata": {},
   "outputs": [
    {
     "name": "stdout",
     "output_type": "stream",
     "text": [
      "183 行が削除されました。\n"
     ]
    }
   ],
   "source": [
    "# 7個目が1-19の数字で始まるものを削除する。\n",
    "# ファイル名を指定する。\n",
    "filename = \"filtered_result.txt\"\n",
    "\n",
    "# 削除対象でない行を保持するリスト\n",
    "remaining_lines = []\n",
    "deleted_count = 0  # 削除した行数をカウントする変数\n",
    "\n",
    "# ファイルを開いて内容を読み込む\n",
    "with open(filename, \"r\") as file:\n",
    "    for line in file:\n",
    "        # 各行の数字をカンマで区切りリストにする\n",
    "        numbers = line.strip().split(\",\")\n",
    "\n",
    "        # 7番目の数字が存在するかチェックし、条件に合うかを確認\n",
    "        if len(numbers) > 6:\n",
    "            seven_number = numbers[6].strip() \n",
    "            # 7番目の数字が \"1-19\" の場合\n",
    "            if (seven_number.isdigit() and 1 <= int(seven_number) <= 19):\n",
    "                deleted_count += 1  # 条件に合う行をカウント\n",
    "                continue\n",
    "\n",
    "        # 条件に合わない行を保持\n",
    "        remaining_lines.append(line)\n",
    "\n",
    "# ファイルを上書きして、残りの行のみを書き込む\n",
    "with open(filename, \"w\") as file:\n",
    "    file.writelines(remaining_lines)\n",
    "\n",
    "print(f\"{deleted_count} 行が削除されました。\")"
   ]
  },
  {
   "cell_type": "code",
   "execution_count": 35,
   "metadata": {},
   "outputs": [],
   "source": [
    "# 1番目は、1桁と2桁どっちが多い？\n",
    "def count_first_digit_length(filename):\n",
    "    one_digit_count = 0\n",
    "    two_digit_count = 0\n",
    "    \n",
    "    # ファイルから組み合わせを読み込む\n",
    "    with open(filename, 'r') as f:\n",
    "        lines = f.readlines()\n",
    "    \n",
    "    for line in lines:\n",
    "        # カンマ区切りで数値リストを取得し、整数に変換\n",
    "        numbers = list(map(int, line.strip().split(',')))\n",
    "        \n",
    "        # 1つ目の数値が1桁か2桁かを確認\n",
    "        first_number = numbers[0]\n",
    "        if 0 <= first_number <= 9:\n",
    "            one_digit_count += 1\n",
    "        elif 10 <= first_number <= 99:\n",
    "            two_digit_count += 1\n",
    "\n",
    "    # 結果を出力\n",
    "    print(f\"1番目の桁比: {one_digit_count} / {two_digit_count}\")\n",
    "\n",
    "# 2番目は、1桁と2桁どっちが多い？\n",
    "def count_second_digit_length(filename):\n",
    "    one_digit_count = 0\n",
    "    two_digit_count = 0\n",
    "    \n",
    "    # ファイルから組み合わせを読み込む\n",
    "    with open(filename, 'r') as f:\n",
    "        lines = f.readlines()\n",
    "\n",
    "    for line in lines:\n",
    "        # カンマ区切りで数値リストを取得し、整数に変換\n",
    "        numbers = list(map(int, line.strip().split(',')))\n",
    "        \n",
    "        # 2つ目の数値が1桁か2桁かを確認\n",
    "        second_number = numbers[1]\n",
    "        if 0 <= second_number <= 9:\n",
    "            one_digit_count += 1\n",
    "        elif 10 <= second_number <= 99:\n",
    "            two_digit_count += 1\n",
    "\n",
    "    # 結果を出力\n",
    "    print(f\"2番目の桁比: {one_digit_count} / {two_digit_count}\")\n",
    "\n",
    "# 3番目は、1桁と2桁どっちが多い？\n",
    "def count_three_digit_length(filename):\n",
    "    one_digit_count = 0\n",
    "    two_digit_count = 0\n",
    "    \n",
    "    # ファイルから組み合わせを読み込む\n",
    "    with open(filename, 'r') as f:\n",
    "        lines = f.readlines()\n",
    "\n",
    "    for line in lines:\n",
    "        # カンマ区切りで数値リストを取得し、整数に変換\n",
    "        numbers = list(map(int, line.strip().split(',')))\n",
    "        \n",
    "        # 2つ目の数値が1桁か2桁かを確認\n",
    "        three_number = numbers[2]\n",
    "        if 0 <= three_number <= 9:\n",
    "            one_digit_count += 1\n",
    "        elif 10 <= three_number <= 99:\n",
    "            two_digit_count += 1\n",
    "\n",
    "    # 結果を出力\n",
    "    print(f\"3番目の桁比: {one_digit_count} / {two_digit_count}\")\n",
    "\n",
    "# 4番目は、1桁と2桁どっちが多い？\n",
    "def count_four_digit_length(filename):\n",
    "    one_digit_count = 0\n",
    "    two_digit_count = 0\n",
    "    \n",
    "    # ファイルから組み合わせを読み込む\n",
    "    with open(filename, 'r') as f:\n",
    "        lines = f.readlines()\n",
    "\n",
    "    for line in lines:\n",
    "        # カンマ区切りで数値リストを取得し、整数に変換\n",
    "        numbers = list(map(int, line.strip().split(',')))\n",
    "        \n",
    "        # 2つ目の数値が1桁か2桁かを確認\n",
    "        four_number = numbers[3]\n",
    "        if 0 <= four_number <= 9:\n",
    "            one_digit_count += 1\n",
    "        elif 10 <= four_number <= 99:\n",
    "            two_digit_count += 1\n",
    "\n",
    "    # 結果を出力\n",
    "    print(f\"4番目の桁比: {one_digit_count} / {two_digit_count}\")\n",
    "\n",
    "# 5番目は、1桁と2桁どっちが多い？\n",
    "def count_five_digit_length(filename):\n",
    "    one_digit_count = 0\n",
    "    two_digit_count = 0\n",
    "    \n",
    "    # ファイルから組み合わせを読み込む\n",
    "    with open(filename, 'r') as f:\n",
    "        lines = f.readlines()\n",
    "\n",
    "    for line in lines:\n",
    "        # カンマ区切りで数値リストを取得し、整数に変換\n",
    "        numbers = list(map(int, line.strip().split(',')))\n",
    "        \n",
    "        # 2つ目の数値が1桁か2桁かを確認\n",
    "        five_number = numbers[4]\n",
    "        if 0 <= five_number <= 9:\n",
    "            one_digit_count += 1\n",
    "        elif 10 <= five_number <= 99:\n",
    "            two_digit_count += 1\n",
    "\n",
    "    # 結果を出力\n",
    "    print(f\"5番目の桁比: {one_digit_count} / {two_digit_count}\")\n",
    "\n",
    "# 6番目は、1桁と2桁どっちが多い？\n",
    "def count_six_digit_length(filename):\n",
    "    one_digit_count = 0\n",
    "    two_digit_count = 0\n",
    "    \n",
    "    # ファイルから組み合わせを読み込む\n",
    "    with open(filename, 'r') as f:\n",
    "        lines = f.readlines()\n",
    "\n",
    "    for line in lines:\n",
    "        # カンマ区切りで数値リストを取得し、整数に変換\n",
    "        numbers = list(map(int, line.strip().split(',')))\n",
    "        \n",
    "        # 2つ目の数値が1桁か2桁かを確認\n",
    "        six_number = numbers[5]\n",
    "        if 0 <= six_number <= 9:\n",
    "            one_digit_count += 1\n",
    "        elif 10 <= six_number <= 99:\n",
    "            two_digit_count += 1\n",
    "\n",
    "    # 結果を出力\n",
    "    print(f\"6番目の桁比: {one_digit_count} / {two_digit_count}\")\n",
    "\n",
    "# 7番目は、1桁と2桁どっちが多い？\n",
    "def count_seven_digit_length(filename):\n",
    "    one_digit_count = 0\n",
    "    two_digit_count = 0\n",
    "    \n",
    "    # ファイルから組み合わせを読み込む\n",
    "    with open(filename, 'r') as f:\n",
    "        lines = f.readlines()\n",
    "\n",
    "    for line in lines:\n",
    "        # カンマ区切りで数値リストを取得し、整数に変換\n",
    "        numbers = list(map(int, line.strip().split(',')))\n",
    "        \n",
    "        # 2つ目の数値が1桁か2桁かを確認\n",
    "        seven_number = numbers[5]\n",
    "        if 0 <= seven_number <= 9:\n",
    "            one_digit_count += 1\n",
    "        elif 10 <= seven_number <= 99:\n",
    "            two_digit_count += 1\n",
    "\n",
    "    # 結果を出力\n",
    "    print(f\"7番目の桁比: {one_digit_count} / {two_digit_count}\")"
   ]
  },
  {
   "cell_type": "code",
   "execution_count": 36,
   "metadata": {},
   "outputs": [
    {
     "name": "stdout",
     "output_type": "stream",
     "text": [
      "            1桁 / 2桁\n",
      "1番目の桁比: 553 / 85\n",
      "2番目の桁比: 347 / 291\n",
      "3番目の桁比: 137 / 501\n",
      "4番目の桁比: 33 / 605\n",
      "5番目の桁比: 3 / 635\n",
      "6番目の桁比: 0 / 638\n",
      "7番目の桁比: 0 / 638\n"
     ]
    }
   ],
   "source": [
    "# n番目の桁数はどっちが多いかまとめて出力する。\n",
    "functions = {\n",
    "    'one': count_first_digit_length,\n",
    "    'two': count_second_digit_length,\n",
    "    'three': count_three_digit_length,\n",
    "    'four': count_four_digit_length,\n",
    "    'five': count_five_digit_length,\n",
    "    'six': count_six_digit_length,\n",
    "    'seven': count_seven_digit_length,\n",
    "}\n",
    "\n",
    "# 各関数を呼び出す\n",
    "print(f'            1桁 / 2桁')\n",
    "for name, func in functions.items():\n",
    "    func('wn_list.txt')"
   ]
  }
 ],
 "metadata": {
  "kernelspec": {
   "display_name": "Python 3",
   "language": "python",
   "name": "python3"
  },
  "language_info": {
   "codemirror_mode": {
    "name": "ipython",
    "version": 3
   },
   "file_extension": ".py",
   "mimetype": "text/x-python",
   "name": "python",
   "nbconvert_exporter": "python",
   "pygments_lexer": "ipython3",
   "version": "3.10.11"
  },
  "orig_nbformat": 4
 },
 "nbformat": 4,
 "nbformat_minor": 2
}
